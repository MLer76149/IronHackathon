{
 "cells": [
  {
   "cell_type": "code",
   "execution_count": 272,
   "metadata": {},
   "outputs": [],
   "source": [
    "from hackyou import hackpy as hp\n",
    "from hackyou import hackfilter as hf\n",
    "from hackyou import hackforest as ht\n",
    "import pandas as pd\n",
    "import numpy as np\n",
    "from sklearn.model_selection import train_test_split\n",
    "from sklearn.tree import DecisionTreeRegressor\n",
    "from sklearn.neighbors import KNeighborsRegressor\n",
    "from sklearn.model_selection import cross_validate\n",
    "from sklearn.metrics import confusion_matrix, accuracy_score, precision_score, recall_score, ConfusionMatrixDisplay\n",
    "from sklearn.metrics import mean_squared_error, r2_score, mean_absolute_error\n",
    "from sklearn.neighbors import KNeighborsClassifier\n",
    "from sklearn.metrics import classification_report, f1_score, cohen_kappa_score\n",
    "from sklearn.ensemble import RandomForestClassifier\n",
    "from sklearn.model_selection import GridSearchCV\n",
    "from sklearn.model_selection import RandomizedSearchCV\n",
    "import pickle\n",
    "\n",
    "%matplotlib inline"
   ]
  },
  {
   "cell_type": "code",
   "execution_count": 112,
   "metadata": {},
   "outputs": [],
   "source": [
    "#data_linear = pd.read_excel(\"rawdata/regression_data.xls\")\n",
    "train = pd.read_csv(\"rawdata/train.csv\")\n",
    "test = pd.read_csv(\"rawdata/test_no_class.csv\")\n",
    "#data_filter = pd.read_csv(\"rawdata/numerical.csv\")\n"
   ]
  },
  {
   "cell_type": "code",
   "execution_count": 113,
   "metadata": {},
   "outputs": [],
   "source": [
    "# clean SEX column"
   ]
  },
  {
   "cell_type": "code",
   "execution_count": 114,
   "metadata": {},
   "outputs": [],
   "source": [
    "train['SEX'] = train['SEX'].apply(clean_gender)"
   ]
  },
  {
   "cell_type": "code",
   "execution_count": 115,
   "metadata": {},
   "outputs": [],
   "source": [
    "test['SEX'] = test['SEX'].apply(clean_gender)"
   ]
  },
  {
   "cell_type": "code",
   "execution_count": 40,
   "metadata": {},
   "outputs": [
    {
     "name": "stdout",
     "output_type": "stream",
     "text": [
      "<class 'pandas.core.frame.DataFrame'>\n",
      "RangeIndex: 102 entries, 0 to 101\n",
      "Data columns (total 20 columns):\n",
      " #   Column           Non-Null Count  Dtype  \n",
      "---  ------           --------------  -----  \n",
      " 0   AGE              102 non-null    int64  \n",
      " 1   SEX              102 non-null    object \n",
      " 2   STEROID          102 non-null    float64\n",
      " 3   ANTIVIRALS       102 non-null    int64  \n",
      " 4   FATIGUE          102 non-null    int64  \n",
      " 5   MALAISE          102 non-null    int64  \n",
      " 6   ANOREXIA         102 non-null    int64  \n",
      " 7   LIVER BIG        102 non-null    float64\n",
      " 8   LIVER FIRM       102 non-null    float64\n",
      " 9   SPLEEN PALPABLE  102 non-null    float64\n",
      " 10  SPIDERS          102 non-null    float64\n",
      " 11  ASCITES          102 non-null    float64\n",
      " 12  VARICES          102 non-null    float64\n",
      " 13  BILIRUBIN        102 non-null    float64\n",
      " 14  ALK PHOSPHATE    84 non-null     float64\n",
      " 15  SGOT             102 non-null    float64\n",
      " 16  ALBUMIN          93 non-null     float64\n",
      " 17  PROTIME          55 non-null     float64\n",
      " 18  HISTOLOGY        102 non-null    int64  \n",
      " 19  Class            102 non-null    object \n",
      "dtypes: float64(12), int64(6), object(2)\n",
      "memory usage: 16.1+ KB\n"
     ]
    }
   ],
   "source": [
    "train.info()"
   ]
  },
  {
   "cell_type": "code",
   "execution_count": 11,
   "metadata": {},
   "outputs": [
    {
     "name": "stdout",
     "output_type": "stream",
     "text": [
      "<class 'pandas.core.frame.DataFrame'>\n",
      "RangeIndex: 53 entries, 0 to 52\n",
      "Data columns (total 19 columns):\n",
      " #   Column           Non-Null Count  Dtype \n",
      "---  ------           --------------  ----- \n",
      " 0   AGE              53 non-null     int64 \n",
      " 1   SEX              53 non-null     object\n",
      " 2   STEROID          53 non-null     int64 \n",
      " 3   ANTIVIRALS       53 non-null     int64 \n",
      " 4   FATIGUE          53 non-null     object\n",
      " 5   MALAISE          53 non-null     object\n",
      " 6   ANOREXIA         53 non-null     object\n",
      " 7   LIVER BIG        53 non-null     object\n",
      " 8   LIVER FIRM       53 non-null     object\n",
      " 9   SPLEEN PALPABLE  53 non-null     object\n",
      " 10  SPIDERS          53 non-null     object\n",
      " 11  ASCITES          53 non-null     object\n",
      " 12  VARICES          53 non-null     object\n",
      " 13  BILIRUBIN        53 non-null     object\n",
      " 14  ALK PHOSPHATE    53 non-null     object\n",
      " 15  SGOT             53 non-null     object\n",
      " 16  ALBUMIN          53 non-null     object\n",
      " 17  PROTIME          53 non-null     object\n",
      " 18  HISTOLOGY        53 non-null     int64 \n",
      "dtypes: int64(4), object(15)\n",
      "memory usage: 8.0+ KB\n"
     ]
    }
   ],
   "source": [
    "test.info()"
   ]
  },
  {
   "cell_type": "code",
   "execution_count": 13,
   "metadata": {},
   "outputs": [],
   "source": [
    "hp.show_empty_variables(train)"
   ]
  },
  {
   "cell_type": "code",
   "execution_count": 82,
   "metadata": {},
   "outputs": [
    {
     "name": "stdout",
     "output_type": "stream",
     "text": [
      "The column PROTIME has 47 NaN\n"
     ]
    }
   ],
   "source": [
    "hp.show_nan(train)"
   ]
  },
  {
   "cell_type": "code",
   "execution_count": 107,
   "metadata": {},
   "outputs": [
    {
     "name": "stdout",
     "output_type": "stream",
     "text": [
      "The column ALK PHOSPHATE has 11 NaN\n"
     ]
    }
   ],
   "source": [
    "hp.show_nan(test)"
   ]
  },
  {
   "cell_type": "code",
   "execution_count": null,
   "metadata": {},
   "outputs": [],
   "source": [
    "# parse to number"
   ]
  },
  {
   "cell_type": "code",
   "execution_count": 116,
   "metadata": {},
   "outputs": [],
   "source": [
    "for column in train.columns:\n",
    "    if column not in [\"SEX\", \"Class\"]:\n",
    "        train[column] = pd.to_numeric(train[column], errors ='coerce')"
   ]
  },
  {
   "cell_type": "code",
   "execution_count": 117,
   "metadata": {},
   "outputs": [],
   "source": [
    "for column in test.columns:\n",
    "    if column not in [\"SEX\", \"Class\"]:\n",
    "        test[column] = pd.to_numeric(test[column], errors ='coerce')"
   ]
  },
  {
   "cell_type": "code",
   "execution_count": 84,
   "metadata": {},
   "outputs": [],
   "source": [
    "# hp.unique(train)"
   ]
  },
  {
   "cell_type": "code",
   "execution_count": null,
   "metadata": {},
   "outputs": [],
   "source": [
    "# fill na"
   ]
  },
  {
   "cell_type": "code",
   "execution_count": 118,
   "metadata": {},
   "outputs": [],
   "source": [
    "col_fillna =[\"STEROID\", \"LIVER BIG\", \"LIVER FIRM\", \"SPLEEN PALPABLE\", \"SPIDERS\", \"ASCITES\", \"VARICES\", \"BILIRUBIN\", \"SGOT\"]"
   ]
  },
  {
   "cell_type": "code",
   "execution_count": 119,
   "metadata": {},
   "outputs": [],
   "source": [
    "col_fillna_test = [\"FATIGUE\", \"MALAISE\", \"ANOREXIA\"]"
   ]
  },
  {
   "cell_type": "code",
   "execution_count": 120,
   "metadata": {},
   "outputs": [],
   "source": [
    "train = repl_median(train, col_fillna)"
   ]
  },
  {
   "cell_type": "code",
   "execution_count": 121,
   "metadata": {},
   "outputs": [],
   "source": [
    "test = repl_median(test, col_fillna)"
   ]
  },
  {
   "cell_type": "code",
   "execution_count": 122,
   "metadata": {},
   "outputs": [],
   "source": [
    "test = repl_median(test, col_fillna_test)"
   ]
  },
  {
   "cell_type": "code",
   "execution_count": 79,
   "metadata": {},
   "outputs": [
    {
     "name": "stdout",
     "output_type": "stream",
     "text": [
      "The column PROTIME has 47 NaN\n"
     ]
    }
   ],
   "source": [
    "hp.show_nan(train)"
   ]
  },
  {
   "cell_type": "code",
   "execution_count": 86,
   "metadata": {},
   "outputs": [
    {
     "name": "stdout",
     "output_type": "stream",
     "text": [
      "AGE\n",
      "[48 51 40 25 34 52 31 62 30 61 50 39 59 36 27 41 53 23 49 65 69 37 20 42\n",
      " 54 38 33 28 22 45 46 35 24 44 56 47 43 60  7 58 67 32]\n",
      "51    6\n",
      "34    6\n",
      "50    6\n",
      "30    5\n",
      "44    5\n",
      "54    4\n",
      "36    4\n",
      "38    4\n",
      "23    4\n",
      "39    4\n",
      "28    3\n",
      "31    3\n",
      "42    3\n",
      "52    3\n",
      "27    3\n",
      "56    3\n",
      "40    3\n",
      "37    3\n",
      "45    3\n",
      "49    2\n",
      "47    2\n",
      "48    2\n",
      "61    2\n",
      "32    1\n",
      "25    1\n",
      "24    1\n",
      "22    1\n",
      "20    1\n",
      "33    1\n",
      "69    1\n",
      "35    1\n",
      "41    1\n",
      "67    1\n",
      "43    1\n",
      "46    1\n",
      "53    1\n",
      "58    1\n",
      "59    1\n",
      "60    1\n",
      "62    1\n",
      "65    1\n",
      "7     1\n",
      "Name: AGE, dtype: int64\n",
      "---------------\n",
      "SEX\n",
      "['M' 'F']\n",
      "M    92\n",
      "F    10\n",
      "Name: SEX, dtype: int64\n",
      "---------------\n",
      "STEROID\n",
      "[1. 2.]\n",
      "2.0    52\n",
      "1.0    50\n",
      "Name: STEROID, dtype: int64\n",
      "---------------\n",
      "ANTIVIRALS\n",
      "[2 1]\n",
      "2    87\n",
      "1    15\n",
      "Name: ANTIVIRALS, dtype: int64\n",
      "---------------\n",
      "FATIGUE\n",
      "[1 2]\n",
      "1    64\n",
      "2    38\n",
      "Name: FATIGUE, dtype: int64\n",
      "---------------\n",
      "MALAISE\n",
      "[1 2]\n",
      "2    65\n",
      "1    37\n",
      "Name: MALAISE, dtype: int64\n",
      "---------------\n",
      "ANOREXIA\n",
      "[2 1]\n",
      "2    84\n",
      "1    18\n",
      "Name: ANOREXIA, dtype: int64\n",
      "---------------\n",
      "LIVER BIG\n",
      "[2. 1.]\n",
      "2.0    83\n",
      "1.0    19\n",
      "Name: LIVER BIG, dtype: int64\n",
      "---------------\n",
      "LIVER FIRM\n",
      "[1. 2.]\n",
      "2.0    62\n",
      "1.0    40\n",
      "Name: LIVER FIRM, dtype: int64\n",
      "---------------\n",
      "SPLEEN PALPABLE\n",
      "[2. 1.]\n",
      "2.0    78\n",
      "1.0    24\n",
      "Name: SPLEEN PALPABLE, dtype: int64\n",
      "---------------\n",
      "SPIDERS\n",
      "[1. 2.]\n",
      "2.0    68\n",
      "1.0    34\n",
      "Name: SPIDERS, dtype: int64\n",
      "---------------\n",
      "ASCITES\n",
      "[1. 2.]\n",
      "2.0    89\n",
      "1.0    13\n",
      "Name: ASCITES, dtype: int64\n",
      "---------------\n",
      "VARICES\n",
      "[1. 2.]\n",
      "2.0    89\n",
      "1.0    13\n",
      "Name: VARICES, dtype: int64\n",
      "---------------\n",
      "BILIRUBIN\n",
      "[4.8 1.  0.6 1.3 0.7 2.5 8.  0.9 1.5 2.4 4.6 0.3 0.8 3.2 1.2 2.8 7.6 1.6\n",
      " 2.9 3.9 2.  1.7 1.9 3.  1.1 0.5 0.4]\n",
      "1.0    24\n",
      "0.7    12\n",
      "0.9    12\n",
      "0.6     8\n",
      "0.8     7\n",
      "1.5     6\n",
      "1.3     6\n",
      "4.6     3\n",
      "1.2     2\n",
      "2.0     2\n",
      "1.6     2\n",
      "2.8     2\n",
      "3.2     2\n",
      "0.3     1\n",
      "1.9     1\n",
      "2.4     1\n",
      "0.4     1\n",
      "2.9     1\n",
      "4.8     1\n",
      "1.1     1\n",
      "3.9     1\n",
      "0.5     1\n",
      "3.0     1\n",
      "1.7     1\n",
      "7.6     1\n",
      "8.0     1\n",
      "2.5     1\n",
      "Name: BILIRUBIN, dtype: int64\n",
      "---------------\n",
      "ALK PHOSPHATE\n",
      "[123.         107.          62.         181.          72.\n",
      "  40.          75.          85.          78.         141.\n",
      " 165.         176.33333333  30.          46.         230.\n",
      " 120.         168.         215.          81.          56.\n",
      "  34.         135.         180.         100.         119.\n",
      "  80.          89.         155.         143.66666667  53.\n",
      "  85.33333333  74.         127.          48.          76.\n",
      " 167.66666667 138.         105.          68.          80.66666667\n",
      "  71.          90.         103.          70.         110.\n",
      " 108.66666667  50.         166.          60.          95.\n",
      " 136.33333333  79.         158.         164.          86.\n",
      " 163.         126.         139.          92.          88.33333333\n",
      " 256.         114.          52.         130.         167.\n",
      " 179.         111.66666667 194.         243.          55.        ]\n",
      "85.000000     14\n",
      "62.000000      3\n",
      "100.000000     3\n",
      "78.000000      3\n",
      "123.000000     2\n",
      "              ..\n",
      "103.000000     1\n",
      "90.000000      1\n",
      "71.000000      1\n",
      "68.000000      1\n",
      "85.333333      1\n",
      "Name: ALK PHOSPHATE, Length: 70, dtype: int64\n",
      "---------------\n",
      "SGOT\n",
      "[157.  20. 166. 181.  46.  69.  55.  58. 156.  64.  25.  75. 101.  24.\n",
      "  52. 117.  30. 227. 269.  60.  19.  16.  15.  48.  42.  53.  33. 136.\n",
      "  80.  31. 152.  28. 200.  90. 110. 182.  18. 271.  44. 242.  34.  68.\n",
      "  14. 153.  43. 145.  78.  63.  40. 278. 120. 114. 142.  81.  59.  65.\n",
      "  38. 140. 100. 231. 150.  49.  45. 225.]\n",
      "20.0     6\n",
      "55.0     6\n",
      "30.0     5\n",
      "75.0     4\n",
      "28.0     3\n",
      "        ..\n",
      "136.0    1\n",
      "278.0    1\n",
      "53.0     1\n",
      "120.0    1\n",
      "225.0    1\n",
      "Name: SGOT, Length: 64, dtype: int64\n",
      "---------------\n",
      "ALBUMIN\n",
      "[2.7 3.  4.  4.5 4.4 4.2 4.6 3.9 2.8 3.8 2.2 3.4 3.6 4.1 3.7 3.5 2.9 2.4\n",
      " 3.3 4.9 2.6 4.8 4.7 3.1 2.1 4.3 5.3]\n",
      "4.0    18\n",
      "3.8    16\n",
      "4.4     8\n",
      "4.2     7\n",
      "4.1     6\n",
      "3.9     6\n",
      "3.5     5\n",
      "3.3     4\n",
      "2.9     3\n",
      "4.5     3\n",
      "3.0     3\n",
      "2.6     2\n",
      "4.3     2\n",
      "2.4     2\n",
      "3.6     2\n",
      "4.6     2\n",
      "3.7     2\n",
      "3.1     2\n",
      "2.1     1\n",
      "4.8     1\n",
      "5.3     1\n",
      "3.4     1\n",
      "4.7     1\n",
      "2.2     1\n",
      "2.7     1\n",
      "2.8     1\n",
      "4.9     1\n",
      "Name: ALBUMIN, dtype: int64\n",
      "---------------\n",
      "PROTIME\n",
      "[ 31.  63.  57.  67.  21. 100.  52.  58.  nan  72.  76.  80.  41.  38.\n",
      "  66.  51.  48.  54.  74.  85.  32.  60.  64.  50.  70.  47.  42.  75.\n",
      "  43.  46.  62.  84.  29.   0.  56.  90.]\n",
      "NaN      47\n",
      "100.0     6\n",
      "85.0      4\n",
      "52.0      3\n",
      "41.0      3\n",
      "90.0      2\n",
      "63.0      2\n",
      "57.0      2\n",
      "67.0      2\n",
      "66.0      2\n",
      "56.0      2\n",
      "74.0      2\n",
      "31.0      2\n",
      "64.0      1\n",
      "76.0      1\n",
      "0.0       1\n",
      "29.0      1\n",
      "84.0      1\n",
      "21.0      1\n",
      "62.0      1\n",
      "46.0      1\n",
      "58.0      1\n",
      "43.0      1\n",
      "72.0      1\n",
      "80.0      1\n",
      "60.0      1\n",
      "75.0      1\n",
      "38.0      1\n",
      "42.0      1\n",
      "51.0      1\n",
      "48.0      1\n",
      "47.0      1\n",
      "70.0      1\n",
      "50.0      1\n",
      "32.0      1\n",
      "54.0      1\n",
      "Name: PROTIME, dtype: int64\n",
      "---------------\n",
      "HISTOLOGY\n",
      "[2 1]\n",
      "2    51\n",
      "1    51\n",
      "Name: HISTOLOGY, dtype: int64\n",
      "---------------\n",
      "Class\n",
      "['DIE' 'LIVE']\n",
      "LIVE    81\n",
      "DIE     21\n",
      "Name: Class, dtype: int64\n",
      "---------------\n"
     ]
    }
   ],
   "source": [
    "hp.unique(train)"
   ]
  },
  {
   "cell_type": "code",
   "execution_count": 104,
   "metadata": {},
   "outputs": [
    {
     "name": "stdout",
     "output_type": "stream",
     "text": [
      "AGE\n",
      "[39 41 28 36 32 25 22 47 20 30 66 34 45 78 72 49 57 42 37 38 24 58 33 64\n",
      " 26 62 61 70 54 27 35 31]\n",
      "38    4\n",
      "30    3\n",
      "32    3\n",
      "36    3\n",
      "39    2\n",
      "28    2\n",
      "20    2\n",
      "34    2\n",
      "37    2\n",
      "25    2\n",
      "33    2\n",
      "41    2\n",
      "42    2\n",
      "45    2\n",
      "47    2\n",
      "57    2\n",
      "78    1\n",
      "72    1\n",
      "70    1\n",
      "22    1\n",
      "66    1\n",
      "24    1\n",
      "62    1\n",
      "26    1\n",
      "27    1\n",
      "31    1\n",
      "61    1\n",
      "35    1\n",
      "49    1\n",
      "54    1\n",
      "58    1\n",
      "64    1\n",
      "Name: AGE, dtype: int64\n",
      "---------------\n",
      "SEX\n",
      "['M' 'F']\n",
      "M    47\n",
      "F     6\n",
      "Name: SEX, dtype: int64\n",
      "---------------\n",
      "STEROID\n",
      "[2 1]\n",
      "2    27\n",
      "1    26\n",
      "Name: STEROID, dtype: int64\n",
      "---------------\n",
      "ANTIVIRALS\n",
      "[2 1]\n",
      "2    44\n",
      "1     9\n",
      "Name: ANTIVIRALS, dtype: int64\n",
      "---------------\n",
      "FATIGUE\n",
      "[1. 2.]\n",
      "1.0    37\n",
      "2.0    16\n",
      "Name: FATIGUE, dtype: int64\n",
      "---------------\n",
      "MALAISE\n",
      "[2. 1.]\n",
      "2.0    29\n",
      "1.0    24\n",
      "Name: MALAISE, dtype: int64\n",
      "---------------\n",
      "ANOREXIA\n",
      "[2. 1.]\n",
      "2.0    39\n",
      "1.0    14\n",
      "Name: ANOREXIA, dtype: int64\n",
      "---------------\n",
      "LIVER BIG\n",
      "[2. 1.]\n",
      "2.0    47\n",
      "1.0     6\n",
      "Name: LIVER BIG, dtype: int64\n",
      "---------------\n",
      "LIVER FIRM\n",
      "[1. 2.]\n",
      "2.0    33\n",
      "1.0    20\n",
      "Name: LIVER FIRM, dtype: int64\n",
      "---------------\n",
      "SPLEEN PALPABLE\n",
      "[2. 1.]\n",
      "2.0    47\n",
      "1.0     6\n",
      "Name: SPLEEN PALPABLE, dtype: int64\n",
      "---------------\n",
      "SPIDERS\n",
      "[2. 1.]\n",
      "2.0    36\n",
      "1.0    17\n",
      "Name: SPIDERS, dtype: int64\n",
      "---------------\n",
      "ASCITES\n",
      "[2. 1.]\n",
      "2.0    46\n",
      "1.0     7\n",
      "Name: ASCITES, dtype: int64\n",
      "---------------\n",
      "VARICES\n",
      "[2. 1.]\n",
      "2.0    48\n",
      "1.0     5\n",
      "Name: VARICES, dtype: int64\n",
      "---------------\n",
      "BILIRUBIN\n",
      "[0.7 1.6 1.  0.4 2.  2.3 2.2 1.2 1.7 0.8 1.4 4.1 0.6 1.5 4.6 0.5 3.5 1.8\n",
      " 4.2 0.9]\n",
      "1.0    11\n",
      "0.7    11\n",
      "1.2     6\n",
      "0.8     3\n",
      "2.3     3\n",
      "1.7     2\n",
      "1.4     2\n",
      "0.6     2\n",
      "2.0     2\n",
      "1.8     1\n",
      "4.6     1\n",
      "4.1     1\n",
      "1.6     1\n",
      "0.4     1\n",
      "2.2     1\n",
      "0.9     1\n",
      "3.5     1\n",
      "0.5     1\n",
      "1.5     1\n",
      "4.2     1\n",
      "Name: BILIRUBIN, dtype: int64\n",
      "---------------\n",
      "ALK PHOSPHATE\n",
      "[ nan  81.  44. 102.  45.  84. 150.  57. 295.  96. 147.  59. 115.  85.\n",
      "  67. 125. 100.  82. 175.  63.  80. 118. 135.  75. 215. 109.  72. 191.\n",
      " 160. 280.  26.  62. 133.  65.  58.  70.]\n",
      "NaN      11\n",
      "85.0      4\n",
      "75.0      2\n",
      "81.0      2\n",
      "102.0     2\n",
      "82.0      2\n",
      "280.0     1\n",
      "160.0     1\n",
      "65.0      1\n",
      "44.0      1\n",
      "133.0     1\n",
      "45.0      1\n",
      "84.0      1\n",
      "150.0     1\n",
      "57.0      1\n",
      "295.0     1\n",
      "96.0      1\n",
      "147.0     1\n",
      "59.0      1\n",
      "115.0     1\n",
      "62.0      1\n",
      "67.0      1\n",
      "125.0     1\n",
      "100.0     1\n",
      "58.0      1\n",
      "175.0     1\n",
      "63.0      1\n",
      "80.0      1\n",
      "118.0     1\n",
      "135.0     1\n",
      "26.0      1\n",
      "215.0     1\n",
      "109.0     1\n",
      "72.0      1\n",
      "191.0     1\n",
      "70.0      1\n",
      "Name: ALK PHOSPHATE, dtype: int64\n",
      "---------------\n",
      "SGOT\n",
      "[ 48.  53. 123.  45.  64.  18.  24.  23.  68. 144.  86.  65.  60.  32.\n",
      " 128. 249.  52.  70.  14.  28.  31.  39.  55.  80.  38.  16.  40.  29.\n",
      "  20.  54. 528.  89. 420. 118.  98.  58.  92. 224. 648. 120.  34. 173.]\n",
      "60.0     5\n",
      "48.0     2\n",
      "98.0     2\n",
      "55.0     2\n",
      "65.0     2\n",
      "28.0     2\n",
      "53.0     2\n",
      "92.0     2\n",
      "64.0     1\n",
      "123.0    1\n",
      "70.0     1\n",
      "52.0     1\n",
      "249.0    1\n",
      "128.0    1\n",
      "32.0     1\n",
      "45.0     1\n",
      "86.0     1\n",
      "144.0    1\n",
      "14.0     1\n",
      "23.0     1\n",
      "24.0     1\n",
      "18.0     1\n",
      "68.0     1\n",
      "173.0    1\n",
      "34.0     1\n",
      "39.0     1\n",
      "120.0    1\n",
      "648.0    1\n",
      "224.0    1\n",
      "58.0     1\n",
      "118.0    1\n",
      "420.0    1\n",
      "89.0     1\n",
      "528.0    1\n",
      "54.0     1\n",
      "20.0     1\n",
      "29.0     1\n",
      "40.0     1\n",
      "16.0     1\n",
      "38.0     1\n",
      "80.0     1\n",
      "31.0     1\n",
      "Name: SGOT, dtype: int64\n",
      "---------------\n",
      "ALBUMIN\n",
      "[4.4 5.  4.  4.3 nan 4.2 3.9 4.9 3.  2.7 3.7 3.4 3.5 2.6 2.8 3.3 3.8 4.1\n",
      " 2.9 4.5 3.1 6.4]\n",
      "4.0    7\n",
      "NaN    7\n",
      "4.2    6\n",
      "4.3    5\n",
      "3.4    3\n",
      "2.9    2\n",
      "3.8    2\n",
      "3.0    2\n",
      "2.7    2\n",
      "2.8    2\n",
      "3.3    2\n",
      "4.1    2\n",
      "3.9    2\n",
      "2.6    1\n",
      "4.4    1\n",
      "6.4    1\n",
      "3.1    1\n",
      "4.5    1\n",
      "3.5    1\n",
      "3.7    1\n",
      "4.9    1\n",
      "5.0    1\n",
      "Name: ALBUMIN, dtype: int64\n",
      "---------------\n",
      "HISTOLOGY\n",
      "[1 2]\n",
      "1    34\n",
      "2    19\n",
      "Name: HISTOLOGY, dtype: int64\n",
      "---------------\n"
     ]
    }
   ],
   "source": [
    "hp.unique(test)"
   ]
  },
  {
   "cell_type": "code",
   "execution_count": 70,
   "metadata": {},
   "outputs": [
    {
     "data": {
      "image/png": "[encoded data removed]",
      "text/plain": [
       "<Figure size 1152x360 with 3 Axes>"
      ]
     },
     "metadata": {
      "needs_background": "light"
     },
     "output_type": "display_data"
    }
   ],
   "source": [
    "hp.display_filledna(train[\"ALBUMIN\"])"
   ]
  },
  {
   "cell_type": "code",
   "execution_count": 103,
   "metadata": {},
   "outputs": [
    {
     "data": {
      "image/png": "[encoded data removed]",
      "text/plain": [
       "<Figure size 1152x360 with 3 Axes>"
      ]
     },
     "metadata": {
      "needs_background": "light"
     },
     "output_type": "display_data"
    }
   ],
   "source": [
    "hp.display_filledna(test[\"ALBUMIN\"])"
   ]
  },
  {
   "cell_type": "code",
   "execution_count": 72,
   "metadata": {},
   "outputs": [
    {
     "data": {
      "image/png": "[encoded data removed]",
      "text/plain": [
       "<Figure size 1152x360 with 3 Axes>"
      ]
     },
     "metadata": {
      "needs_background": "light"
     },
     "output_type": "display_data"
    }
   ],
   "source": [
    "hp.display_filledna(train[\"LIVER BIG\"])"
   ]
  },
  {
   "cell_type": "code",
   "execution_count": 80,
   "metadata": {},
   "outputs": [
    {
     "data": {
      "image/png": "[encoded data removed]",
      "text/plain": [
       "<Figure size 1152x360 with 3 Axes>"
      ]
     },
     "metadata": {
      "needs_background": "light"
     },
     "output_type": "display_data"
    }
   ],
   "source": [
    "hp.display_filledna(train[\"PROTIME\"])"
   ]
  },
  {
   "cell_type": "code",
   "execution_count": null,
   "metadata": {},
   "outputs": [],
   "source": []
  },
  {
   "cell_type": "code",
   "execution_count": 84,
   "metadata": {},
   "outputs": [],
   "source": [
    "hp.show_nan(test)"
   ]
  },
  {
   "cell_type": "code",
   "execution_count": null,
   "metadata": {},
   "outputs": [],
   "source": [
    "# fill na with knn"
   ]
  },
  {
   "cell_type": "code",
   "execution_count": 144,
   "metadata": {},
   "outputs": [],
   "source": [
    "# train\n",
    "rows_without_na = train[train['ALK PHOSPHATE'].notna()].index\n",
    "rows_with_na = train[train['ALK PHOSPHATE'].isna()].index\n",
    "train_alk_nona = train[train['ALK PHOSPHATE'].notna()]\n",
    "train_alk_na = train[train['ALK PHOSPHATE'].isna()]"
   ]
  },
  {
   "cell_type": "code",
   "execution_count": 147,
   "metadata": {},
   "outputs": [],
   "source": [
    "# test\n",
    "rows_with_na = test[test['ALK PHOSPHATE'].isna()].index\n",
    "\n",
    "test_alk_na = test[test['ALK PHOSPHATE'].isna()]"
   ]
  },
  {
   "cell_type": "code",
   "execution_count": 136,
   "metadata": {},
   "outputs": [],
   "source": [
    "X_alk = train_alk_nona.drop(columns=['ALK PHOSPHATE', \"ALBUMIN\", \"PROTIME\", \"SEX\", \"Class\"])\n",
    "y_alk = train_alk_nona[[\"ALK PHOSPHATE\"]]\n",
    "X_alk_na =train_alk_na.drop(columns=['ALK PHOSPHATE', \"ALBUMIN\", \"PROTIME\", \"SEX\", \"Class\"])"
   ]
  },
  {
   "cell_type": "code",
   "execution_count": 137,
   "metadata": {},
   "outputs": [],
   "source": [
    "X_alk_na_test =test_alk_na.drop(columns=['ALK PHOSPHATE', \"ALBUMIN\", \"PROTIME\", \"SEX\"])"
   ]
  },
  {
   "cell_type": "code",
   "execution_count": 138,
   "metadata": {},
   "outputs": [],
   "source": [
    "X_alk_scaled, file = hp.min_max(X_alk, \"alk\")"
   ]
  },
  {
   "cell_type": "code",
   "execution_count": 139,
   "metadata": {},
   "outputs": [],
   "source": [
    "X_alk_scaled_na = hp.min_max(X_alk_na, file, fit=False)"
   ]
  },
  {
   "cell_type": "code",
   "execution_count": 148,
   "metadata": {},
   "outputs": [],
   "source": [
    "X_alk_scaled_na_test = hp.min_max(X_alk_na_test, file, fit=False)"
   ]
  },
  {
   "cell_type": "code",
   "execution_count": 74,
   "metadata": {},
   "outputs": [
    {
     "data": {
      "image/png": "[encoded data removed]",
      "text/plain": [
       "<Figure size 1152x360 with 3 Axes>"
      ]
     },
     "metadata": {
      "needs_background": "light"
     },
     "output_type": "display_data"
    }
   ],
   "source": [
    "hp.display_filledna(train[\"ALK PHOSPHATE\"])"
   ]
  },
  {
   "cell_type": "code",
   "execution_count": 154,
   "metadata": {},
   "outputs": [
    {
     "data": {
      "text/plain": [
       "3.8"
      ]
     },
     "execution_count": 154,
     "metadata": {},
     "output_type": "execute_result"
    }
   ],
   "source": [
    "m = np.round(train[\"ALBUMIN\"].mean(), 1)\n",
    "m"
   ]
  },
  {
   "cell_type": "code",
   "execution_count": 155,
   "metadata": {},
   "outputs": [],
   "source": [
    "train[\"ALBUMIN\"] = train[\"ALBUMIN\"].fillna(m)"
   ]
  },
  {
   "cell_type": "code",
   "execution_count": 156,
   "metadata": {},
   "outputs": [
    {
     "data": {
      "text/plain": [
       "3.8"
      ]
     },
     "execution_count": 156,
     "metadata": {},
     "output_type": "execute_result"
    }
   ],
   "source": [
    "m = np.round(test[\"ALBUMIN\"].mean(), 1)\n",
    "m"
   ]
  },
  {
   "cell_type": "code",
   "execution_count": 157,
   "metadata": {},
   "outputs": [],
   "source": [
    "test[\"ALBUMIN\"] = test[\"ALBUMIN\"].fillna(m)"
   ]
  },
  {
   "cell_type": "code",
   "execution_count": 140,
   "metadata": {},
   "outputs": [
    {
     "name": "stdout",
     "output_type": "stream",
     "text": [
      "The accuracy of the model is: 0.50\n"
     ]
    }
   ],
   "source": [
    "from sklearn.neighbors import KNeighborsRegressor\n",
    "knn = KNeighborsRegressor(n_neighbors=3) \n",
    "knn.fit(pd.DataFrame(X_alk_scaled),pd.DataFrame(y_alk))\n",
    "pred = knn.predict(X_alk_scaled)\n",
    "\n",
    "print(\"The accuracy of the model is: {:.2f}\".format(r2_score(y_alk,pred)))"
   ]
  },
  {
   "cell_type": "code",
   "execution_count": 141,
   "metadata": {},
   "outputs": [],
   "source": [
    "pred_alk_na = knn.predict(X_alk_scaled_na)"
   ]
  },
  {
   "cell_type": "code",
   "execution_count": 149,
   "metadata": {},
   "outputs": [],
   "source": [
    "pred_test_alk_na = knn.predict(X_alk_scaled_na_test)"
   ]
  },
  {
   "cell_type": "code",
   "execution_count": 145,
   "metadata": {},
   "outputs": [],
   "source": [
    "train.loc[rows_with_na,\"ALK PHOSPHATE\"] = pred_alk_na"
   ]
  },
  {
   "cell_type": "code",
   "execution_count": 150,
   "metadata": {},
   "outputs": [],
   "source": [
    "test.loc[rows_with_na,\"ALK PHOSPHATE\"] = pred_test_alk_na"
   ]
  },
  {
   "cell_type": "code",
   "execution_count": 146,
   "metadata": {},
   "outputs": [
    {
     "data": {
      "text/html": [
       "<div>\n",
       "<style scoped>\n",
       "    .dataframe tbody tr th:only-of-type {\n",
       "        vertical-align: middle;\n",
       "    }\n",
       "\n",
       "    .dataframe tbody tr th {\n",
       "        vertical-align: top;\n",
       "    }\n",
       "\n",
       "    .dataframe thead th {\n",
       "        text-align: right;\n",
       "    }\n",
       "</style>\n",
       "<table border=\"1\" class=\"dataframe\">\n",
       "  <thead>\n",
       "    <tr style=\"text-align: right;\">\n",
       "      <th></th>\n",
       "      <th>AGE</th>\n",
       "      <th>SEX</th>\n",
       "      <th>STEROID</th>\n",
       "      <th>ANTIVIRALS</th>\n",
       "      <th>FATIGUE</th>\n",
       "      <th>MALAISE</th>\n",
       "      <th>ANOREXIA</th>\n",
       "      <th>LIVER BIG</th>\n",
       "      <th>LIVER FIRM</th>\n",
       "      <th>SPLEEN PALPABLE</th>\n",
       "      <th>SPIDERS</th>\n",
       "      <th>ASCITES</th>\n",
       "      <th>VARICES</th>\n",
       "      <th>BILIRUBIN</th>\n",
       "      <th>ALK PHOSPHATE</th>\n",
       "      <th>SGOT</th>\n",
       "      <th>ALBUMIN</th>\n",
       "      <th>PROTIME</th>\n",
       "      <th>HISTOLOGY</th>\n",
       "      <th>Class</th>\n",
       "    </tr>\n",
       "  </thead>\n",
       "  <tbody>\n",
       "    <tr>\n",
       "      <th>0</th>\n",
       "      <td>48</td>\n",
       "      <td>M</td>\n",
       "      <td>1.0</td>\n",
       "      <td>2</td>\n",
       "      <td>1</td>\n",
       "      <td>1</td>\n",
       "      <td>2</td>\n",
       "      <td>2.0</td>\n",
       "      <td>1.0</td>\n",
       "      <td>2.0</td>\n",
       "      <td>1.0</td>\n",
       "      <td>1.0</td>\n",
       "      <td>1.0</td>\n",
       "      <td>4.8</td>\n",
       "      <td>123.0</td>\n",
       "      <td>157.0</td>\n",
       "      <td>2.7</td>\n",
       "      <td>31.0</td>\n",
       "      <td>2</td>\n",
       "      <td>DIE</td>\n",
       "    </tr>\n",
       "    <tr>\n",
       "      <th>1</th>\n",
       "      <td>51</td>\n",
       "      <td>M</td>\n",
       "      <td>2.0</td>\n",
       "      <td>2</td>\n",
       "      <td>1</td>\n",
       "      <td>2</td>\n",
       "      <td>2</td>\n",
       "      <td>2.0</td>\n",
       "      <td>1.0</td>\n",
       "      <td>1.0</td>\n",
       "      <td>1.0</td>\n",
       "      <td>2.0</td>\n",
       "      <td>1.0</td>\n",
       "      <td>1.0</td>\n",
       "      <td>107.0</td>\n",
       "      <td>20.0</td>\n",
       "      <td>3.0</td>\n",
       "      <td>63.0</td>\n",
       "      <td>2</td>\n",
       "      <td>LIVE</td>\n",
       "    </tr>\n",
       "    <tr>\n",
       "      <th>2</th>\n",
       "      <td>40</td>\n",
       "      <td>M</td>\n",
       "      <td>1.0</td>\n",
       "      <td>2</td>\n",
       "      <td>1</td>\n",
       "      <td>2</td>\n",
       "      <td>2</td>\n",
       "      <td>2.0</td>\n",
       "      <td>1.0</td>\n",
       "      <td>2.0</td>\n",
       "      <td>2.0</td>\n",
       "      <td>2.0</td>\n",
       "      <td>2.0</td>\n",
       "      <td>0.6</td>\n",
       "      <td>62.0</td>\n",
       "      <td>166.0</td>\n",
       "      <td>4.0</td>\n",
       "      <td>63.0</td>\n",
       "      <td>1</td>\n",
       "      <td>LIVE</td>\n",
       "    </tr>\n",
       "    <tr>\n",
       "      <th>3</th>\n",
       "      <td>25</td>\n",
       "      <td>M</td>\n",
       "      <td>2.0</td>\n",
       "      <td>2</td>\n",
       "      <td>1</td>\n",
       "      <td>2</td>\n",
       "      <td>2</td>\n",
       "      <td>1.0</td>\n",
       "      <td>1.0</td>\n",
       "      <td>1.0</td>\n",
       "      <td>1.0</td>\n",
       "      <td>1.0</td>\n",
       "      <td>1.0</td>\n",
       "      <td>1.3</td>\n",
       "      <td>181.0</td>\n",
       "      <td>181.0</td>\n",
       "      <td>4.5</td>\n",
       "      <td>57.0</td>\n",
       "      <td>2</td>\n",
       "      <td>LIVE</td>\n",
       "    </tr>\n",
       "    <tr>\n",
       "      <th>4</th>\n",
       "      <td>34</td>\n",
       "      <td>M</td>\n",
       "      <td>1.0</td>\n",
       "      <td>2</td>\n",
       "      <td>1</td>\n",
       "      <td>2</td>\n",
       "      <td>2</td>\n",
       "      <td>1.0</td>\n",
       "      <td>1.0</td>\n",
       "      <td>2.0</td>\n",
       "      <td>1.0</td>\n",
       "      <td>2.0</td>\n",
       "      <td>2.0</td>\n",
       "      <td>1.0</td>\n",
       "      <td>72.0</td>\n",
       "      <td>46.0</td>\n",
       "      <td>4.4</td>\n",
       "      <td>57.0</td>\n",
       "      <td>1</td>\n",
       "      <td>LIVE</td>\n",
       "    </tr>\n",
       "    <tr>\n",
       "      <th>...</th>\n",
       "      <td>...</td>\n",
       "      <td>...</td>\n",
       "      <td>...</td>\n",
       "      <td>...</td>\n",
       "      <td>...</td>\n",
       "      <td>...</td>\n",
       "      <td>...</td>\n",
       "      <td>...</td>\n",
       "      <td>...</td>\n",
       "      <td>...</td>\n",
       "      <td>...</td>\n",
       "      <td>...</td>\n",
       "      <td>...</td>\n",
       "      <td>...</td>\n",
       "      <td>...</td>\n",
       "      <td>...</td>\n",
       "      <td>...</td>\n",
       "      <td>...</td>\n",
       "      <td>...</td>\n",
       "      <td>...</td>\n",
       "    </tr>\n",
       "    <tr>\n",
       "      <th>97</th>\n",
       "      <td>23</td>\n",
       "      <td>M</td>\n",
       "      <td>2.0</td>\n",
       "      <td>2</td>\n",
       "      <td>1</td>\n",
       "      <td>1</td>\n",
       "      <td>1</td>\n",
       "      <td>2.0</td>\n",
       "      <td>2.0</td>\n",
       "      <td>1.0</td>\n",
       "      <td>2.0</td>\n",
       "      <td>2.0</td>\n",
       "      <td>2.0</td>\n",
       "      <td>1.3</td>\n",
       "      <td>194.0</td>\n",
       "      <td>150.0</td>\n",
       "      <td>4.1</td>\n",
       "      <td>90.0</td>\n",
       "      <td>1</td>\n",
       "      <td>LIVE</td>\n",
       "    </tr>\n",
       "    <tr>\n",
       "      <th>98</th>\n",
       "      <td>38</td>\n",
       "      <td>M</td>\n",
       "      <td>1.0</td>\n",
       "      <td>2</td>\n",
       "      <td>2</td>\n",
       "      <td>2</td>\n",
       "      <td>2</td>\n",
       "      <td>2.0</td>\n",
       "      <td>1.0</td>\n",
       "      <td>2.0</td>\n",
       "      <td>2.0</td>\n",
       "      <td>2.0</td>\n",
       "      <td>2.0</td>\n",
       "      <td>0.4</td>\n",
       "      <td>243.0</td>\n",
       "      <td>49.0</td>\n",
       "      <td>3.8</td>\n",
       "      <td>90.0</td>\n",
       "      <td>2</td>\n",
       "      <td>DIE</td>\n",
       "    </tr>\n",
       "    <tr>\n",
       "      <th>99</th>\n",
       "      <td>36</td>\n",
       "      <td>M</td>\n",
       "      <td>1.0</td>\n",
       "      <td>2</td>\n",
       "      <td>2</td>\n",
       "      <td>2</td>\n",
       "      <td>2</td>\n",
       "      <td>2.0</td>\n",
       "      <td>2.0</td>\n",
       "      <td>1.0</td>\n",
       "      <td>2.0</td>\n",
       "      <td>2.0</td>\n",
       "      <td>2.0</td>\n",
       "      <td>0.8</td>\n",
       "      <td>85.0</td>\n",
       "      <td>44.0</td>\n",
       "      <td>4.2</td>\n",
       "      <td>85.0</td>\n",
       "      <td>1</td>\n",
       "      <td>LIVE</td>\n",
       "    </tr>\n",
       "    <tr>\n",
       "      <th>100</th>\n",
       "      <td>32</td>\n",
       "      <td>M</td>\n",
       "      <td>1.0</td>\n",
       "      <td>1</td>\n",
       "      <td>1</td>\n",
       "      <td>1</td>\n",
       "      <td>2</td>\n",
       "      <td>2.0</td>\n",
       "      <td>2.0</td>\n",
       "      <td>2.0</td>\n",
       "      <td>2.0</td>\n",
       "      <td>2.0</td>\n",
       "      <td>2.0</td>\n",
       "      <td>1.0</td>\n",
       "      <td>55.0</td>\n",
       "      <td>45.0</td>\n",
       "      <td>4.1</td>\n",
       "      <td>56.0</td>\n",
       "      <td>1</td>\n",
       "      <td>LIVE</td>\n",
       "    </tr>\n",
       "    <tr>\n",
       "      <th>101</th>\n",
       "      <td>54</td>\n",
       "      <td>M</td>\n",
       "      <td>1.0</td>\n",
       "      <td>1</td>\n",
       "      <td>2</td>\n",
       "      <td>2</td>\n",
       "      <td>2</td>\n",
       "      <td>1.0</td>\n",
       "      <td>1.0</td>\n",
       "      <td>2.0</td>\n",
       "      <td>2.0</td>\n",
       "      <td>2.0</td>\n",
       "      <td>2.0</td>\n",
       "      <td>1.0</td>\n",
       "      <td>155.0</td>\n",
       "      <td>225.0</td>\n",
       "      <td>3.6</td>\n",
       "      <td>67.0</td>\n",
       "      <td>2</td>\n",
       "      <td>LIVE</td>\n",
       "    </tr>\n",
       "  </tbody>\n",
       "</table>\n",
       "<p>102 rows × 20 columns</p>\n",
       "</div>"
      ],
      "text/plain": [
       "     AGE SEX  STEROID  ANTIVIRALS  FATIGUE  MALAISE  ANOREXIA  LIVER BIG  \\\n",
       "0     48   M      1.0           2        1        1         2        2.0   \n",
       "1     51   M      2.0           2        1        2         2        2.0   \n",
       "2     40   M      1.0           2        1        2         2        2.0   \n",
       "3     25   M      2.0           2        1        2         2        1.0   \n",
       "4     34   M      1.0           2        1        2         2        1.0   \n",
       "..   ...  ..      ...         ...      ...      ...       ...        ...   \n",
       "97    23   M      2.0           2        1        1         1        2.0   \n",
       "98    38   M      1.0           2        2        2         2        2.0   \n",
       "99    36   M      1.0           2        2        2         2        2.0   \n",
       "100   32   M      1.0           1        1        1         2        2.0   \n",
       "101   54   M      1.0           1        2        2         2        1.0   \n",
       "\n",
       "     LIVER FIRM  SPLEEN PALPABLE  SPIDERS  ASCITES  VARICES  BILIRUBIN  \\\n",
       "0           1.0              2.0      1.0      1.0      1.0        4.8   \n",
       "1           1.0              1.0      1.0      2.0      1.0        1.0   \n",
       "2           1.0              2.0      2.0      2.0      2.0        0.6   \n",
       "3           1.0              1.0      1.0      1.0      1.0        1.3   \n",
       "4           1.0              2.0      1.0      2.0      2.0        1.0   \n",
       "..          ...              ...      ...      ...      ...        ...   \n",
       "97          2.0              1.0      2.0      2.0      2.0        1.3   \n",
       "98          1.0              2.0      2.0      2.0      2.0        0.4   \n",
       "99          2.0              1.0      2.0      2.0      2.0        0.8   \n",
       "100         2.0              2.0      2.0      2.0      2.0        1.0   \n",
       "101         1.0              2.0      2.0      2.0      2.0        1.0   \n",
       "\n",
       "     ALK PHOSPHATE   SGOT  ALBUMIN  PROTIME  HISTOLOGY Class  \n",
       "0            123.0  157.0      2.7     31.0          2   DIE  \n",
       "1            107.0   20.0      3.0     63.0          2  LIVE  \n",
       "2             62.0  166.0      4.0     63.0          1  LIVE  \n",
       "3            181.0  181.0      4.5     57.0          2  LIVE  \n",
       "4             72.0   46.0      4.4     57.0          1  LIVE  \n",
       "..             ...    ...      ...      ...        ...   ...  \n",
       "97           194.0  150.0      4.1     90.0          1  LIVE  \n",
       "98           243.0   49.0      3.8     90.0          2   DIE  \n",
       "99            85.0   44.0      4.2     85.0          1  LIVE  \n",
       "100           55.0   45.0      4.1     56.0          1  LIVE  \n",
       "101          155.0  225.0      3.6     67.0          2  LIVE  \n",
       "\n",
       "[102 rows x 20 columns]"
      ]
     },
     "execution_count": 146,
     "metadata": {},
     "output_type": "execute_result"
    }
   ],
   "source": [
    "train"
   ]
  },
  {
   "cell_type": "code",
   "execution_count": 151,
   "metadata": {},
   "outputs": [],
   "source": [
    "train = train.drop(columns = [\"PROTIME\"])"
   ]
  },
  {
   "cell_type": "code",
   "execution_count": 152,
   "metadata": {},
   "outputs": [],
   "source": [
    "test = test.drop(columns = [\"PROTIME\"])"
   ]
  },
  {
   "cell_type": "code",
   "execution_count": 89,
   "metadata": {},
   "outputs": [
    {
     "name": "stdout",
     "output_type": "stream",
     "text": [
      "AGE\n",
      "[48 51 40 25 34 52 31 62 30 61 50 39 59 36 27 41 53 23 49 65 69 37 20 42\n",
      " 54 38 33 28 22 45 46 35 24 44 56 47 43 60  7 58 67 32]\n",
      "51    6\n",
      "34    6\n",
      "50    6\n",
      "30    5\n",
      "44    5\n",
      "54    4\n",
      "36    4\n",
      "38    4\n",
      "23    4\n",
      "39    4\n",
      "28    3\n",
      "31    3\n",
      "42    3\n",
      "52    3\n",
      "27    3\n",
      "56    3\n",
      "40    3\n",
      "37    3\n",
      "45    3\n",
      "49    2\n",
      "47    2\n",
      "48    2\n",
      "61    2\n",
      "32    1\n",
      "25    1\n",
      "24    1\n",
      "22    1\n",
      "20    1\n",
      "33    1\n",
      "69    1\n",
      "35    1\n",
      "41    1\n",
      "67    1\n",
      "43    1\n",
      "46    1\n",
      "53    1\n",
      "58    1\n",
      "59    1\n",
      "60    1\n",
      "62    1\n",
      "65    1\n",
      "7     1\n",
      "Name: AGE, dtype: int64\n",
      "---------------\n",
      "SEX\n",
      "['M' 'F']\n",
      "M    92\n",
      "F    10\n",
      "Name: SEX, dtype: int64\n",
      "---------------\n",
      "STEROID\n",
      "[1. 2.]\n",
      "2.0    52\n",
      "1.0    50\n",
      "Name: STEROID, dtype: int64\n",
      "---------------\n",
      "ANTIVIRALS\n",
      "[2 1]\n",
      "2    87\n",
      "1    15\n",
      "Name: ANTIVIRALS, dtype: int64\n",
      "---------------\n",
      "FATIGUE\n",
      "[1 2]\n",
      "1    64\n",
      "2    38\n",
      "Name: FATIGUE, dtype: int64\n",
      "---------------\n",
      "MALAISE\n",
      "[1 2]\n",
      "2    65\n",
      "1    37\n",
      "Name: MALAISE, dtype: int64\n",
      "---------------\n",
      "ANOREXIA\n",
      "[2 1]\n",
      "2    84\n",
      "1    18\n",
      "Name: ANOREXIA, dtype: int64\n",
      "---------------\n",
      "LIVER BIG\n",
      "[2. 1.]\n",
      "2.0    83\n",
      "1.0    19\n",
      "Name: LIVER BIG, dtype: int64\n",
      "---------------\n",
      "LIVER FIRM\n",
      "[1. 2.]\n",
      "2.0    62\n",
      "1.0    40\n",
      "Name: LIVER FIRM, dtype: int64\n",
      "---------------\n",
      "SPLEEN PALPABLE\n",
      "[2. 1.]\n",
      "2.0    78\n",
      "1.0    24\n",
      "Name: SPLEEN PALPABLE, dtype: int64\n",
      "---------------\n",
      "SPIDERS\n",
      "[1. 2.]\n",
      "2.0    68\n",
      "1.0    34\n",
      "Name: SPIDERS, dtype: int64\n",
      "---------------\n",
      "ASCITES\n",
      "[1. 2.]\n",
      "2.0    89\n",
      "1.0    13\n",
      "Name: ASCITES, dtype: int64\n",
      "---------------\n",
      "VARICES\n",
      "[1. 2.]\n",
      "2.0    89\n",
      "1.0    13\n",
      "Name: VARICES, dtype: int64\n",
      "---------------\n",
      "BILIRUBIN\n",
      "[4.8 1.  0.6 1.3 0.7 2.5 8.  0.9 1.5 2.4 4.6 0.3 0.8 3.2 1.2 2.8 7.6 1.6\n",
      " 2.9 3.9 2.  1.7 1.9 3.  1.1 0.5 0.4]\n",
      "1.0    24\n",
      "0.7    12\n",
      "0.9    12\n",
      "0.6     8\n",
      "0.8     7\n",
      "1.5     6\n",
      "1.3     6\n",
      "4.6     3\n",
      "1.2     2\n",
      "2.0     2\n",
      "1.6     2\n",
      "2.8     2\n",
      "3.2     2\n",
      "0.3     1\n",
      "1.9     1\n",
      "2.4     1\n",
      "0.4     1\n",
      "2.9     1\n",
      "4.8     1\n",
      "1.1     1\n",
      "3.9     1\n",
      "0.5     1\n",
      "3.0     1\n",
      "1.7     1\n",
      "7.6     1\n",
      "8.0     1\n",
      "2.5     1\n",
      "Name: BILIRUBIN, dtype: int64\n",
      "---------------\n",
      "ALK PHOSPHATE\n",
      "[123.         107.          62.         181.          72.\n",
      "  40.          75.          85.          78.         141.\n",
      " 165.         176.33333333  30.          46.         230.\n",
      " 120.         168.         215.          81.          56.\n",
      "  34.         135.         180.         100.         119.\n",
      "  80.          89.         155.         143.66666667  53.\n",
      "  85.33333333  74.         127.          48.          76.\n",
      " 167.66666667 138.         105.          68.          80.66666667\n",
      "  71.          90.         103.          70.         110.\n",
      " 108.66666667  50.         166.          60.          95.\n",
      " 136.33333333  79.         158.         164.          86.\n",
      " 163.         126.         139.          92.          88.33333333\n",
      " 256.         114.          52.         130.         167.\n",
      " 179.         111.66666667 194.         243.          55.        ]\n",
      "85.000000     14\n",
      "62.000000      3\n",
      "100.000000     3\n",
      "78.000000      3\n",
      "123.000000     2\n",
      "              ..\n",
      "103.000000     1\n",
      "90.000000      1\n",
      "71.000000      1\n",
      "68.000000      1\n",
      "85.333333      1\n",
      "Name: ALK PHOSPHATE, Length: 70, dtype: int64\n",
      "---------------\n",
      "SGOT\n",
      "[157.  20. 166. 181.  46.  69.  55.  58. 156.  64.  25.  75. 101.  24.\n",
      "  52. 117.  30. 227. 269.  60.  19.  16.  15.  48.  42.  53.  33. 136.\n",
      "  80.  31. 152.  28. 200.  90. 110. 182.  18. 271.  44. 242.  34.  68.\n",
      "  14. 153.  43. 145.  78.  63.  40. 278. 120. 114. 142.  81.  59.  65.\n",
      "  38. 140. 100. 231. 150.  49.  45. 225.]\n",
      "20.0     6\n",
      "55.0     6\n",
      "30.0     5\n",
      "75.0     4\n",
      "28.0     3\n",
      "        ..\n",
      "136.0    1\n",
      "278.0    1\n",
      "53.0     1\n",
      "120.0    1\n",
      "225.0    1\n",
      "Name: SGOT, Length: 64, dtype: int64\n",
      "---------------\n",
      "ALBUMIN\n",
      "[2.7 3.  4.  4.5 4.4 4.2 4.6 3.9 2.8 3.8 2.2 3.4 3.6 4.1 3.7 3.5 2.9 2.4\n",
      " 3.3 4.9 2.6 4.8 4.7 3.1 2.1 4.3 5.3]\n",
      "4.0    18\n",
      "3.8    16\n",
      "4.4     8\n",
      "4.2     7\n",
      "4.1     6\n",
      "3.9     6\n",
      "3.5     5\n",
      "3.3     4\n",
      "2.9     3\n",
      "4.5     3\n",
      "3.0     3\n",
      "2.6     2\n",
      "4.3     2\n",
      "2.4     2\n",
      "3.6     2\n",
      "4.6     2\n",
      "3.7     2\n",
      "3.1     2\n",
      "2.1     1\n",
      "4.8     1\n",
      "5.3     1\n",
      "3.4     1\n",
      "4.7     1\n",
      "2.2     1\n",
      "2.7     1\n",
      "2.8     1\n",
      "4.9     1\n",
      "Name: ALBUMIN, dtype: int64\n",
      "---------------\n",
      "HISTOLOGY\n",
      "[2 1]\n",
      "2    51\n",
      "1    51\n",
      "Name: HISTOLOGY, dtype: int64\n",
      "---------------\n",
      "Class\n",
      "['DIE' 'LIVE']\n",
      "LIVE    81\n",
      "DIE     21\n",
      "Name: Class, dtype: int64\n",
      "---------------\n"
     ]
    }
   ],
   "source": [
    "hp.unique(train)"
   ]
  },
  {
   "cell_type": "code",
   "execution_count": 90,
   "metadata": {},
   "outputs": [
    {
     "data": {
      "text/html": [
       "<div>\n",
       "<style scoped>\n",
       "    .dataframe tbody tr th:only-of-type {\n",
       "        vertical-align: middle;\n",
       "    }\n",
       "\n",
       "    .dataframe tbody tr th {\n",
       "        vertical-align: top;\n",
       "    }\n",
       "\n",
       "    .dataframe thead th {\n",
       "        text-align: right;\n",
       "    }\n",
       "</style>\n",
       "<table border=\"1\" class=\"dataframe\">\n",
       "  <thead>\n",
       "    <tr style=\"text-align: right;\">\n",
       "      <th></th>\n",
       "      <th>AGE</th>\n",
       "      <th>SEX</th>\n",
       "      <th>STEROID</th>\n",
       "      <th>ANTIVIRALS</th>\n",
       "      <th>FATIGUE</th>\n",
       "      <th>MALAISE</th>\n",
       "      <th>ANOREXIA</th>\n",
       "      <th>LIVER BIG</th>\n",
       "      <th>LIVER FIRM</th>\n",
       "      <th>SPLEEN PALPABLE</th>\n",
       "      <th>SPIDERS</th>\n",
       "      <th>ASCITES</th>\n",
       "      <th>VARICES</th>\n",
       "      <th>BILIRUBIN</th>\n",
       "      <th>ALK PHOSPHATE</th>\n",
       "      <th>SGOT</th>\n",
       "      <th>ALBUMIN</th>\n",
       "      <th>HISTOLOGY</th>\n",
       "      <th>Class</th>\n",
       "    </tr>\n",
       "  </thead>\n",
       "  <tbody>\n",
       "    <tr>\n",
       "      <th>0</th>\n",
       "      <td>48</td>\n",
       "      <td>M</td>\n",
       "      <td>1.0</td>\n",
       "      <td>2</td>\n",
       "      <td>1</td>\n",
       "      <td>1</td>\n",
       "      <td>2</td>\n",
       "      <td>2.0</td>\n",
       "      <td>1.0</td>\n",
       "      <td>2.0</td>\n",
       "      <td>1.0</td>\n",
       "      <td>1.0</td>\n",
       "      <td>1.0</td>\n",
       "      <td>4.8</td>\n",
       "      <td>123.0</td>\n",
       "      <td>157.0</td>\n",
       "      <td>2.7</td>\n",
       "      <td>2</td>\n",
       "      <td>DIE</td>\n",
       "    </tr>\n",
       "    <tr>\n",
       "      <th>1</th>\n",
       "      <td>51</td>\n",
       "      <td>M</td>\n",
       "      <td>2.0</td>\n",
       "      <td>2</td>\n",
       "      <td>1</td>\n",
       "      <td>2</td>\n",
       "      <td>2</td>\n",
       "      <td>2.0</td>\n",
       "      <td>1.0</td>\n",
       "      <td>1.0</td>\n",
       "      <td>1.0</td>\n",
       "      <td>2.0</td>\n",
       "      <td>1.0</td>\n",
       "      <td>1.0</td>\n",
       "      <td>107.0</td>\n",
       "      <td>20.0</td>\n",
       "      <td>3.0</td>\n",
       "      <td>2</td>\n",
       "      <td>LIVE</td>\n",
       "    </tr>\n",
       "    <tr>\n",
       "      <th>2</th>\n",
       "      <td>40</td>\n",
       "      <td>M</td>\n",
       "      <td>1.0</td>\n",
       "      <td>2</td>\n",
       "      <td>1</td>\n",
       "      <td>2</td>\n",
       "      <td>2</td>\n",
       "      <td>2.0</td>\n",
       "      <td>1.0</td>\n",
       "      <td>2.0</td>\n",
       "      <td>2.0</td>\n",
       "      <td>2.0</td>\n",
       "      <td>2.0</td>\n",
       "      <td>0.6</td>\n",
       "      <td>62.0</td>\n",
       "      <td>166.0</td>\n",
       "      <td>4.0</td>\n",
       "      <td>1</td>\n",
       "      <td>LIVE</td>\n",
       "    </tr>\n",
       "    <tr>\n",
       "      <th>3</th>\n",
       "      <td>25</td>\n",
       "      <td>M</td>\n",
       "      <td>2.0</td>\n",
       "      <td>2</td>\n",
       "      <td>1</td>\n",
       "      <td>2</td>\n",
       "      <td>2</td>\n",
       "      <td>1.0</td>\n",
       "      <td>1.0</td>\n",
       "      <td>1.0</td>\n",
       "      <td>1.0</td>\n",
       "      <td>1.0</td>\n",
       "      <td>1.0</td>\n",
       "      <td>1.3</td>\n",
       "      <td>181.0</td>\n",
       "      <td>181.0</td>\n",
       "      <td>4.5</td>\n",
       "      <td>2</td>\n",
       "      <td>LIVE</td>\n",
       "    </tr>\n",
       "    <tr>\n",
       "      <th>4</th>\n",
       "      <td>34</td>\n",
       "      <td>M</td>\n",
       "      <td>1.0</td>\n",
       "      <td>2</td>\n",
       "      <td>1</td>\n",
       "      <td>2</td>\n",
       "      <td>2</td>\n",
       "      <td>1.0</td>\n",
       "      <td>1.0</td>\n",
       "      <td>2.0</td>\n",
       "      <td>1.0</td>\n",
       "      <td>2.0</td>\n",
       "      <td>2.0</td>\n",
       "      <td>1.0</td>\n",
       "      <td>72.0</td>\n",
       "      <td>46.0</td>\n",
       "      <td>4.4</td>\n",
       "      <td>1</td>\n",
       "      <td>LIVE</td>\n",
       "    </tr>\n",
       "    <tr>\n",
       "      <th>...</th>\n",
       "      <td>...</td>\n",
       "      <td>...</td>\n",
       "      <td>...</td>\n",
       "      <td>...</td>\n",
       "      <td>...</td>\n",
       "      <td>...</td>\n",
       "      <td>...</td>\n",
       "      <td>...</td>\n",
       "      <td>...</td>\n",
       "      <td>...</td>\n",
       "      <td>...</td>\n",
       "      <td>...</td>\n",
       "      <td>...</td>\n",
       "      <td>...</td>\n",
       "      <td>...</td>\n",
       "      <td>...</td>\n",
       "      <td>...</td>\n",
       "      <td>...</td>\n",
       "      <td>...</td>\n",
       "    </tr>\n",
       "    <tr>\n",
       "      <th>97</th>\n",
       "      <td>23</td>\n",
       "      <td>M</td>\n",
       "      <td>2.0</td>\n",
       "      <td>2</td>\n",
       "      <td>1</td>\n",
       "      <td>1</td>\n",
       "      <td>1</td>\n",
       "      <td>2.0</td>\n",
       "      <td>2.0</td>\n",
       "      <td>1.0</td>\n",
       "      <td>2.0</td>\n",
       "      <td>2.0</td>\n",
       "      <td>2.0</td>\n",
       "      <td>1.3</td>\n",
       "      <td>194.0</td>\n",
       "      <td>150.0</td>\n",
       "      <td>4.1</td>\n",
       "      <td>1</td>\n",
       "      <td>LIVE</td>\n",
       "    </tr>\n",
       "    <tr>\n",
       "      <th>98</th>\n",
       "      <td>38</td>\n",
       "      <td>M</td>\n",
       "      <td>1.0</td>\n",
       "      <td>2</td>\n",
       "      <td>2</td>\n",
       "      <td>2</td>\n",
       "      <td>2</td>\n",
       "      <td>2.0</td>\n",
       "      <td>1.0</td>\n",
       "      <td>2.0</td>\n",
       "      <td>2.0</td>\n",
       "      <td>2.0</td>\n",
       "      <td>2.0</td>\n",
       "      <td>0.4</td>\n",
       "      <td>243.0</td>\n",
       "      <td>49.0</td>\n",
       "      <td>3.8</td>\n",
       "      <td>2</td>\n",
       "      <td>DIE</td>\n",
       "    </tr>\n",
       "    <tr>\n",
       "      <th>99</th>\n",
       "      <td>36</td>\n",
       "      <td>M</td>\n",
       "      <td>1.0</td>\n",
       "      <td>2</td>\n",
       "      <td>2</td>\n",
       "      <td>2</td>\n",
       "      <td>2</td>\n",
       "      <td>2.0</td>\n",
       "      <td>2.0</td>\n",
       "      <td>1.0</td>\n",
       "      <td>2.0</td>\n",
       "      <td>2.0</td>\n",
       "      <td>2.0</td>\n",
       "      <td>0.8</td>\n",
       "      <td>85.0</td>\n",
       "      <td>44.0</td>\n",
       "      <td>4.2</td>\n",
       "      <td>1</td>\n",
       "      <td>LIVE</td>\n",
       "    </tr>\n",
       "    <tr>\n",
       "      <th>100</th>\n",
       "      <td>32</td>\n",
       "      <td>M</td>\n",
       "      <td>1.0</td>\n",
       "      <td>1</td>\n",
       "      <td>1</td>\n",
       "      <td>1</td>\n",
       "      <td>2</td>\n",
       "      <td>2.0</td>\n",
       "      <td>2.0</td>\n",
       "      <td>2.0</td>\n",
       "      <td>2.0</td>\n",
       "      <td>2.0</td>\n",
       "      <td>2.0</td>\n",
       "      <td>1.0</td>\n",
       "      <td>55.0</td>\n",
       "      <td>45.0</td>\n",
       "      <td>4.1</td>\n",
       "      <td>1</td>\n",
       "      <td>LIVE</td>\n",
       "    </tr>\n",
       "    <tr>\n",
       "      <th>101</th>\n",
       "      <td>54</td>\n",
       "      <td>M</td>\n",
       "      <td>1.0</td>\n",
       "      <td>1</td>\n",
       "      <td>2</td>\n",
       "      <td>2</td>\n",
       "      <td>2</td>\n",
       "      <td>1.0</td>\n",
       "      <td>1.0</td>\n",
       "      <td>2.0</td>\n",
       "      <td>2.0</td>\n",
       "      <td>2.0</td>\n",
       "      <td>2.0</td>\n",
       "      <td>1.0</td>\n",
       "      <td>155.0</td>\n",
       "      <td>225.0</td>\n",
       "      <td>3.6</td>\n",
       "      <td>2</td>\n",
       "      <td>LIVE</td>\n",
       "    </tr>\n",
       "  </tbody>\n",
       "</table>\n",
       "<p>102 rows × 19 columns</p>\n",
       "</div>"
      ],
      "text/plain": [
       "     AGE SEX  STEROID  ANTIVIRALS  FATIGUE  MALAISE  ANOREXIA  LIVER BIG  \\\n",
       "0     48   M      1.0           2        1        1         2        2.0   \n",
       "1     51   M      2.0           2        1        2         2        2.0   \n",
       "2     40   M      1.0           2        1        2         2        2.0   \n",
       "3     25   M      2.0           2        1        2         2        1.0   \n",
       "4     34   M      1.0           2        1        2         2        1.0   \n",
       "..   ...  ..      ...         ...      ...      ...       ...        ...   \n",
       "97    23   M      2.0           2        1        1         1        2.0   \n",
       "98    38   M      1.0           2        2        2         2        2.0   \n",
       "99    36   M      1.0           2        2        2         2        2.0   \n",
       "100   32   M      1.0           1        1        1         2        2.0   \n",
       "101   54   M      1.0           1        2        2         2        1.0   \n",
       "\n",
       "     LIVER FIRM  SPLEEN PALPABLE  SPIDERS  ASCITES  VARICES  BILIRUBIN  \\\n",
       "0           1.0              2.0      1.0      1.0      1.0        4.8   \n",
       "1           1.0              1.0      1.0      2.0      1.0        1.0   \n",
       "2           1.0              2.0      2.0      2.0      2.0        0.6   \n",
       "3           1.0              1.0      1.0      1.0      1.0        1.3   \n",
       "4           1.0              2.0      1.0      2.0      2.0        1.0   \n",
       "..          ...              ...      ...      ...      ...        ...   \n",
       "97          2.0              1.0      2.0      2.0      2.0        1.3   \n",
       "98          1.0              2.0      2.0      2.0      2.0        0.4   \n",
       "99          2.0              1.0      2.0      2.0      2.0        0.8   \n",
       "100         2.0              2.0      2.0      2.0      2.0        1.0   \n",
       "101         1.0              2.0      2.0      2.0      2.0        1.0   \n",
       "\n",
       "     ALK PHOSPHATE   SGOT  ALBUMIN  HISTOLOGY Class  \n",
       "0            123.0  157.0      2.7          2   DIE  \n",
       "1            107.0   20.0      3.0          2  LIVE  \n",
       "2             62.0  166.0      4.0          1  LIVE  \n",
       "3            181.0  181.0      4.5          2  LIVE  \n",
       "4             72.0   46.0      4.4          1  LIVE  \n",
       "..             ...    ...      ...        ...   ...  \n",
       "97           194.0  150.0      4.1          1  LIVE  \n",
       "98           243.0   49.0      3.8          2   DIE  \n",
       "99            85.0   44.0      4.2          1  LIVE  \n",
       "100           55.0   45.0      4.1          1  LIVE  \n",
       "101          155.0  225.0      3.6          2  LIVE  \n",
       "\n",
       "[102 rows x 19 columns]"
      ]
     },
     "execution_count": 90,
     "metadata": {},
     "output_type": "execute_result"
    }
   ],
   "source": [
    "train"
   ]
  },
  {
   "cell_type": "code",
   "execution_count": 158,
   "metadata": {},
   "outputs": [],
   "source": [
    "hp.show_nan(train)"
   ]
  },
  {
   "cell_type": "code",
   "execution_count": 159,
   "metadata": {},
   "outputs": [],
   "source": [
    "hp.show_nan(test)"
   ]
  },
  {
   "cell_type": "code",
   "execution_count": 95,
   "metadata": {},
   "outputs": [],
   "source": [
    "col_hot = [\"STEROID\", \"ANTIVIRALS\", \"FATIGUE\", \"MALAISE\", \"ANOREXIA\", \"LIVER BIG\", \"LIVER FIRM\", \"SPLEEN PALPABLE\", \"SPIDERS\", \"ASCITES\", \"VARICES\", \"HISTOLOGY\"]"
   ]
  },
  {
   "cell_type": "code",
   "execution_count": null,
   "metadata": {},
   "outputs": [],
   "source": []
  },
  {
   "cell_type": "code",
   "execution_count": 160,
   "metadata": {},
   "outputs": [],
   "source": [
    "for column in col_hot:\n",
    "    train[column] = train[column].astype(object)"
   ]
  },
  {
   "cell_type": "code",
   "execution_count": 162,
   "metadata": {},
   "outputs": [],
   "source": [
    "for column in col_hot:\n",
    "    test[column] = test[column].astype(object)"
   ]
  },
  {
   "cell_type": "code",
   "execution_count": 161,
   "metadata": {},
   "outputs": [
    {
     "name": "stdout",
     "output_type": "stream",
     "text": [
      "<class 'pandas.core.frame.DataFrame'>\n",
      "RangeIndex: 102 entries, 0 to 101\n",
      "Data columns (total 19 columns):\n",
      " #   Column           Non-Null Count  Dtype  \n",
      "---  ------           --------------  -----  \n",
      " 0   AGE              102 non-null    int64  \n",
      " 1   SEX              102 non-null    object \n",
      " 2   STEROID          102 non-null    object \n",
      " 3   ANTIVIRALS       102 non-null    object \n",
      " 4   FATIGUE          102 non-null    object \n",
      " 5   MALAISE          102 non-null    object \n",
      " 6   ANOREXIA         102 non-null    object \n",
      " 7   LIVER BIG        102 non-null    object \n",
      " 8   LIVER FIRM       102 non-null    object \n",
      " 9   SPLEEN PALPABLE  102 non-null    object \n",
      " 10  SPIDERS          102 non-null    object \n",
      " 11  ASCITES          102 non-null    object \n",
      " 12  VARICES          102 non-null    object \n",
      " 13  BILIRUBIN        102 non-null    float64\n",
      " 14  ALK PHOSPHATE    102 non-null    float64\n",
      " 15  SGOT             102 non-null    float64\n",
      " 16  ALBUMIN          102 non-null    float64\n",
      " 17  HISTOLOGY        102 non-null    object \n",
      " 18  Class            102 non-null    object \n",
      "dtypes: float64(4), int64(1), object(14)\n",
      "memory usage: 15.3+ KB\n"
     ]
    }
   ],
   "source": [
    "train.info()"
   ]
  },
  {
   "cell_type": "code",
   "execution_count": 163,
   "metadata": {},
   "outputs": [
    {
     "name": "stdout",
     "output_type": "stream",
     "text": [
      "<class 'pandas.core.frame.DataFrame'>\n",
      "RangeIndex: 53 entries, 0 to 52\n",
      "Data columns (total 18 columns):\n",
      " #   Column           Non-Null Count  Dtype  \n",
      "---  ------           --------------  -----  \n",
      " 0   AGE              53 non-null     int64  \n",
      " 1   SEX              53 non-null     object \n",
      " 2   STEROID          53 non-null     object \n",
      " 3   ANTIVIRALS       53 non-null     object \n",
      " 4   FATIGUE          53 non-null     object \n",
      " 5   MALAISE          53 non-null     object \n",
      " 6   ANOREXIA         53 non-null     object \n",
      " 7   LIVER BIG        53 non-null     object \n",
      " 8   LIVER FIRM       53 non-null     object \n",
      " 9   SPLEEN PALPABLE  53 non-null     object \n",
      " 10  SPIDERS          53 non-null     object \n",
      " 11  ASCITES          53 non-null     object \n",
      " 12  VARICES          53 non-null     object \n",
      " 13  BILIRUBIN        53 non-null     float64\n",
      " 14  ALK PHOSPHATE    53 non-null     float64\n",
      " 15  SGOT             53 non-null     float64\n",
      " 16  ALBUMIN          53 non-null     float64\n",
      " 17  HISTOLOGY        53 non-null     object \n",
      "dtypes: float64(4), int64(1), object(13)\n",
      "memory usage: 7.6+ KB\n"
     ]
    }
   ],
   "source": [
    "test.info()"
   ]
  },
  {
   "cell_type": "code",
   "execution_count": 172,
   "metadata": {},
   "outputs": [],
   "source": [
    "test.to_csv(\"data/test_cleaned.csv\", index=False)"
   ]
  },
  {
   "cell_type": "code",
   "execution_count": 173,
   "metadata": {},
   "outputs": [],
   "source": [
    "train.to_csv(\"data/train_cleaned.csv\", index=False)"
   ]
  },
  {
   "cell_type": "code",
   "execution_count": 174,
   "metadata": {},
   "outputs": [],
   "source": [
    "#X, y - Train - Test - Split"
   ]
  },
  {
   "cell_type": "code",
   "execution_count": null,
   "metadata": {},
   "outputs": [],
   "source": []
  },
  {
   "cell_type": "code",
   "execution_count": null,
   "metadata": {},
   "outputs": [],
   "source": [
    "categories = [ list(categorical[col].unique()) for col in X_train_cat.columns ]\n",
    "categories\n"
   ]
  },
  {
   "cell_type": "code",
   "execution_count": 175,
   "metadata": {},
   "outputs": [],
   "source": [
    "X = train.drop(columns=[\"Class\"])\n",
    "y = train[[\"Class\"]]"
   ]
  },
  {
   "cell_type": "code",
   "execution_count": 187,
   "metadata": {},
   "outputs": [],
   "source": [
    "X_validate = test"
   ]
  },
  {
   "cell_type": "code",
   "execution_count": 183,
   "metadata": {},
   "outputs": [],
   "source": [
    "X_cat = X.select_dtypes(object)"
   ]
  },
  {
   "cell_type": "code",
   "execution_count": 176,
   "metadata": {},
   "outputs": [],
   "source": [
    "X_train, X_test, y_train, y_test = train_test_split(X, y, test_size=0.2, random_state=96)"
   ]
  },
  {
   "cell_type": "code",
   "execution_count": 178,
   "metadata": {},
   "outputs": [],
   "source": [
    "X_train_df = pd.DataFrame(X_train, columns=X.columns)\n",
    "X_test_df  = pd.DataFrame(X_test,columns=X.columns)"
   ]
  },
  {
   "cell_type": "code",
   "execution_count": 179,
   "metadata": {},
   "outputs": [],
   "source": [
    "X_train_num = X_train_df.select_dtypes(np.number)\n",
    "X_test_num  = X_test_df.select_dtypes(np.number)\n",
    "X_train_cat = X_train_df.select_dtypes(object)\n",
    "X_test_cat  = X_test_df.select_dtypes(object)"
   ]
  },
  {
   "cell_type": "code",
   "execution_count": null,
   "metadata": {},
   "outputs": [],
   "source": []
  },
  {
   "cell_type": "code",
   "execution_count": 188,
   "metadata": {},
   "outputs": [],
   "source": [
    "X_validate_num  = X_validate.select_dtypes(np.number)\n",
    "X_validate_cat = X_validate.select_dtypes(object)"
   ]
  },
  {
   "cell_type": "code",
   "execution_count": 180,
   "metadata": {},
   "outputs": [],
   "source": [
    "# one hot - train"
   ]
  },
  {
   "cell_type": "code",
   "execution_count": 184,
   "metadata": {},
   "outputs": [
    {
     "data": {
      "text/plain": [
       "[['M', 'F'],\n",
       " [1.0, 2.0],\n",
       " [2, 1],\n",
       " [1, 2],\n",
       " [1, 2],\n",
       " [2, 1],\n",
       " [2.0, 1.0],\n",
       " [1.0, 2.0],\n",
       " [2.0, 1.0],\n",
       " [1.0, 2.0],\n",
       " [1.0, 2.0],\n",
       " [1.0, 2.0],\n",
       " [2, 1]]"
      ]
     },
     "execution_count": 184,
     "metadata": {},
     "output_type": "execute_result"
    }
   ],
   "source": [
    "categories = [ list(X_cat[col].unique()) for col in X_train_cat.columns ]\n",
    "categories"
   ]
  },
  {
   "cell_type": "code",
   "execution_count": 181,
   "metadata": {},
   "outputs": [
    {
     "data": {
      "text/html": [
       "<div>\n",
       "<style scoped>\n",
       "    .dataframe tbody tr th:only-of-type {\n",
       "        vertical-align: middle;\n",
       "    }\n",
       "\n",
       "    .dataframe tbody tr th {\n",
       "        vertical-align: top;\n",
       "    }\n",
       "\n",
       "    .dataframe thead th {\n",
       "        text-align: right;\n",
       "    }\n",
       "</style>\n",
       "<table border=\"1\" class=\"dataframe\">\n",
       "  <thead>\n",
       "    <tr style=\"text-align: right;\">\n",
       "      <th></th>\n",
       "      <th>SEX</th>\n",
       "      <th>STEROID</th>\n",
       "      <th>ANTIVIRALS</th>\n",
       "      <th>FATIGUE</th>\n",
       "      <th>MALAISE</th>\n",
       "      <th>ANOREXIA</th>\n",
       "      <th>LIVER BIG</th>\n",
       "      <th>LIVER FIRM</th>\n",
       "      <th>SPLEEN PALPABLE</th>\n",
       "      <th>SPIDERS</th>\n",
       "      <th>ASCITES</th>\n",
       "      <th>VARICES</th>\n",
       "      <th>HISTOLOGY</th>\n",
       "    </tr>\n",
       "  </thead>\n",
       "  <tbody>\n",
       "    <tr>\n",
       "      <th>12</th>\n",
       "      <td>M</td>\n",
       "      <td>2</td>\n",
       "      <td>2</td>\n",
       "      <td>2</td>\n",
       "      <td>2</td>\n",
       "      <td>2</td>\n",
       "      <td>2</td>\n",
       "      <td>1</td>\n",
       "      <td>1</td>\n",
       "      <td>1</td>\n",
       "      <td>2</td>\n",
       "      <td>2</td>\n",
       "      <td>2</td>\n",
       "    </tr>\n",
       "    <tr>\n",
       "      <th>85</th>\n",
       "      <td>M</td>\n",
       "      <td>1</td>\n",
       "      <td>2</td>\n",
       "      <td>2</td>\n",
       "      <td>2</td>\n",
       "      <td>2</td>\n",
       "      <td>2</td>\n",
       "      <td>2</td>\n",
       "      <td>2</td>\n",
       "      <td>2</td>\n",
       "      <td>2</td>\n",
       "      <td>2</td>\n",
       "      <td>2</td>\n",
       "    </tr>\n",
       "    <tr>\n",
       "      <th>91</th>\n",
       "      <td>M</td>\n",
       "      <td>2</td>\n",
       "      <td>2</td>\n",
       "      <td>2</td>\n",
       "      <td>2</td>\n",
       "      <td>2</td>\n",
       "      <td>2</td>\n",
       "      <td>2</td>\n",
       "      <td>2</td>\n",
       "      <td>2</td>\n",
       "      <td>2</td>\n",
       "      <td>2</td>\n",
       "      <td>1</td>\n",
       "    </tr>\n",
       "    <tr>\n",
       "      <th>69</th>\n",
       "      <td>M</td>\n",
       "      <td>1</td>\n",
       "      <td>2</td>\n",
       "      <td>1</td>\n",
       "      <td>1</td>\n",
       "      <td>2</td>\n",
       "      <td>2</td>\n",
       "      <td>2</td>\n",
       "      <td>1</td>\n",
       "      <td>2</td>\n",
       "      <td>1</td>\n",
       "      <td>2</td>\n",
       "      <td>2</td>\n",
       "    </tr>\n",
       "    <tr>\n",
       "      <th>16</th>\n",
       "      <td>M</td>\n",
       "      <td>2</td>\n",
       "      <td>1</td>\n",
       "      <td>2</td>\n",
       "      <td>2</td>\n",
       "      <td>2</td>\n",
       "      <td>2</td>\n",
       "      <td>2</td>\n",
       "      <td>2</td>\n",
       "      <td>2</td>\n",
       "      <td>2</td>\n",
       "      <td>2</td>\n",
       "      <td>1</td>\n",
       "    </tr>\n",
       "    <tr>\n",
       "      <th>...</th>\n",
       "      <td>...</td>\n",
       "      <td>...</td>\n",
       "      <td>...</td>\n",
       "      <td>...</td>\n",
       "      <td>...</td>\n",
       "      <td>...</td>\n",
       "      <td>...</td>\n",
       "      <td>...</td>\n",
       "      <td>...</td>\n",
       "      <td>...</td>\n",
       "      <td>...</td>\n",
       "      <td>...</td>\n",
       "      <td>...</td>\n",
       "    </tr>\n",
       "    <tr>\n",
       "      <th>98</th>\n",
       "      <td>M</td>\n",
       "      <td>1</td>\n",
       "      <td>2</td>\n",
       "      <td>2</td>\n",
       "      <td>2</td>\n",
       "      <td>2</td>\n",
       "      <td>2</td>\n",
       "      <td>1</td>\n",
       "      <td>2</td>\n",
       "      <td>2</td>\n",
       "      <td>2</td>\n",
       "      <td>2</td>\n",
       "      <td>2</td>\n",
       "    </tr>\n",
       "    <tr>\n",
       "      <th>97</th>\n",
       "      <td>M</td>\n",
       "      <td>2</td>\n",
       "      <td>2</td>\n",
       "      <td>1</td>\n",
       "      <td>1</td>\n",
       "      <td>1</td>\n",
       "      <td>2</td>\n",
       "      <td>2</td>\n",
       "      <td>1</td>\n",
       "      <td>2</td>\n",
       "      <td>2</td>\n",
       "      <td>2</td>\n",
       "      <td>1</td>\n",
       "    </tr>\n",
       "    <tr>\n",
       "      <th>38</th>\n",
       "      <td>M</td>\n",
       "      <td>2</td>\n",
       "      <td>2</td>\n",
       "      <td>2</td>\n",
       "      <td>2</td>\n",
       "      <td>2</td>\n",
       "      <td>2</td>\n",
       "      <td>2</td>\n",
       "      <td>2</td>\n",
       "      <td>2</td>\n",
       "      <td>2</td>\n",
       "      <td>2</td>\n",
       "      <td>2</td>\n",
       "    </tr>\n",
       "    <tr>\n",
       "      <th>90</th>\n",
       "      <td>M</td>\n",
       "      <td>2</td>\n",
       "      <td>2</td>\n",
       "      <td>2</td>\n",
       "      <td>2</td>\n",
       "      <td>2</td>\n",
       "      <td>2</td>\n",
       "      <td>1</td>\n",
       "      <td>2</td>\n",
       "      <td>1</td>\n",
       "      <td>2</td>\n",
       "      <td>1</td>\n",
       "      <td>2</td>\n",
       "    </tr>\n",
       "    <tr>\n",
       "      <th>84</th>\n",
       "      <td>M</td>\n",
       "      <td>1</td>\n",
       "      <td>2</td>\n",
       "      <td>1</td>\n",
       "      <td>1</td>\n",
       "      <td>2</td>\n",
       "      <td>1</td>\n",
       "      <td>1</td>\n",
       "      <td>2</td>\n",
       "      <td>1</td>\n",
       "      <td>2</td>\n",
       "      <td>2</td>\n",
       "      <td>2</td>\n",
       "    </tr>\n",
       "  </tbody>\n",
       "</table>\n",
       "<p>81 rows × 13 columns</p>\n",
       "</div>"
      ],
      "text/plain": [
       "   SEX STEROID ANTIVIRALS FATIGUE MALAISE ANOREXIA LIVER BIG LIVER FIRM  \\\n",
       "12   M       2          2       2       2        2         2          1   \n",
       "85   M       1          2       2       2        2         2          2   \n",
       "91   M       2          2       2       2        2         2          2   \n",
       "69   M       1          2       1       1        2         2          2   \n",
       "16   M       2          1       2       2        2         2          2   \n",
       "..  ..     ...        ...     ...     ...      ...       ...        ...   \n",
       "98   M       1          2       2       2        2         2          1   \n",
       "97   M       2          2       1       1        1         2          2   \n",
       "38   M       2          2       2       2        2         2          2   \n",
       "90   M       2          2       2       2        2         2          1   \n",
       "84   M       1          2       1       1        2         1          1   \n",
       "\n",
       "   SPLEEN PALPABLE SPIDERS ASCITES VARICES HISTOLOGY  \n",
       "12               1       1       2       2         2  \n",
       "85               2       2       2       2         2  \n",
       "91               2       2       2       2         1  \n",
       "69               1       2       1       2         2  \n",
       "16               2       2       2       2         1  \n",
       "..             ...     ...     ...     ...       ...  \n",
       "98               2       2       2       2         2  \n",
       "97               1       2       2       2         1  \n",
       "38               2       2       2       2         2  \n",
       "90               2       1       2       1         2  \n",
       "84               2       1       2       2         2  \n",
       "\n",
       "[81 rows x 13 columns]"
      ]
     },
     "execution_count": 181,
     "metadata": {},
     "output_type": "execute_result"
    }
   ],
   "source": [
    "X_train_cat"
   ]
  },
  {
   "cell_type": "code",
   "execution_count": 185,
   "metadata": {},
   "outputs": [
    {
     "data": {
      "text/html": [
       "<div>\n",
       "<style scoped>\n",
       "    .dataframe tbody tr th:only-of-type {\n",
       "        vertical-align: middle;\n",
       "    }\n",
       "\n",
       "    .dataframe tbody tr th {\n",
       "        vertical-align: top;\n",
       "    }\n",
       "\n",
       "    .dataframe thead th {\n",
       "        text-align: right;\n",
       "    }\n",
       "</style>\n",
       "<table border=\"1\" class=\"dataframe\">\n",
       "  <thead>\n",
       "    <tr style=\"text-align: right;\">\n",
       "      <th></th>\n",
       "      <th>SEX_F</th>\n",
       "      <th>STEROID_2.0</th>\n",
       "      <th>ANTIVIRALS_1</th>\n",
       "      <th>FATIGUE_2</th>\n",
       "      <th>MALAISE_2</th>\n",
       "      <th>ANOREXIA_1</th>\n",
       "      <th>LIVER BIG_1.0</th>\n",
       "      <th>LIVER FIRM_2.0</th>\n",
       "      <th>SPLEEN PALPABLE_1.0</th>\n",
       "      <th>SPIDERS_2.0</th>\n",
       "      <th>ASCITES_2.0</th>\n",
       "      <th>VARICES_2.0</th>\n",
       "      <th>HISTOLOGY_1</th>\n",
       "    </tr>\n",
       "  </thead>\n",
       "  <tbody>\n",
       "    <tr>\n",
       "      <th>12</th>\n",
       "      <td>0.0</td>\n",
       "      <td>1.0</td>\n",
       "      <td>0.0</td>\n",
       "      <td>1.0</td>\n",
       "      <td>1.0</td>\n",
       "      <td>0.0</td>\n",
       "      <td>0.0</td>\n",
       "      <td>0.0</td>\n",
       "      <td>1.0</td>\n",
       "      <td>0.0</td>\n",
       "      <td>1.0</td>\n",
       "      <td>1.0</td>\n",
       "      <td>0.0</td>\n",
       "    </tr>\n",
       "    <tr>\n",
       "      <th>85</th>\n",
       "      <td>0.0</td>\n",
       "      <td>0.0</td>\n",
       "      <td>0.0</td>\n",
       "      <td>1.0</td>\n",
       "      <td>1.0</td>\n",
       "      <td>0.0</td>\n",
       "      <td>0.0</td>\n",
       "      <td>1.0</td>\n",
       "      <td>0.0</td>\n",
       "      <td>1.0</td>\n",
       "      <td>1.0</td>\n",
       "      <td>1.0</td>\n",
       "      <td>0.0</td>\n",
       "    </tr>\n",
       "    <tr>\n",
       "      <th>91</th>\n",
       "      <td>0.0</td>\n",
       "      <td>1.0</td>\n",
       "      <td>0.0</td>\n",
       "      <td>1.0</td>\n",
       "      <td>1.0</td>\n",
       "      <td>0.0</td>\n",
       "      <td>0.0</td>\n",
       "      <td>1.0</td>\n",
       "      <td>0.0</td>\n",
       "      <td>1.0</td>\n",
       "      <td>1.0</td>\n",
       "      <td>1.0</td>\n",
       "      <td>1.0</td>\n",
       "    </tr>\n",
       "    <tr>\n",
       "      <th>69</th>\n",
       "      <td>0.0</td>\n",
       "      <td>0.0</td>\n",
       "      <td>0.0</td>\n",
       "      <td>0.0</td>\n",
       "      <td>0.0</td>\n",
       "      <td>0.0</td>\n",
       "      <td>0.0</td>\n",
       "      <td>1.0</td>\n",
       "      <td>1.0</td>\n",
       "      <td>1.0</td>\n",
       "      <td>0.0</td>\n",
       "      <td>1.0</td>\n",
       "      <td>0.0</td>\n",
       "    </tr>\n",
       "    <tr>\n",
       "      <th>16</th>\n",
       "      <td>0.0</td>\n",
       "      <td>1.0</td>\n",
       "      <td>1.0</td>\n",
       "      <td>1.0</td>\n",
       "      <td>1.0</td>\n",
       "      <td>0.0</td>\n",
       "      <td>0.0</td>\n",
       "      <td>1.0</td>\n",
       "      <td>0.0</td>\n",
       "      <td>1.0</td>\n",
       "      <td>1.0</td>\n",
       "      <td>1.0</td>\n",
       "      <td>1.0</td>\n",
       "    </tr>\n",
       "  </tbody>\n",
       "</table>\n",
       "</div>"
      ],
      "text/plain": [
       "    SEX_F  STEROID_2.0  ANTIVIRALS_1  FATIGUE_2  MALAISE_2  ANOREXIA_1  \\\n",
       "12    0.0          1.0           0.0        1.0        1.0         0.0   \n",
       "85    0.0          0.0           0.0        1.0        1.0         0.0   \n",
       "91    0.0          1.0           0.0        1.0        1.0         0.0   \n",
       "69    0.0          0.0           0.0        0.0        0.0         0.0   \n",
       "16    0.0          1.0           1.0        1.0        1.0         0.0   \n",
       "\n",
       "    LIVER BIG_1.0  LIVER FIRM_2.0  SPLEEN PALPABLE_1.0  SPIDERS_2.0  \\\n",
       "12            0.0             0.0                  1.0          0.0   \n",
       "85            0.0             1.0                  0.0          1.0   \n",
       "91            0.0             1.0                  0.0          1.0   \n",
       "69            0.0             1.0                  1.0          1.0   \n",
       "16            0.0             1.0                  0.0          1.0   \n",
       "\n",
       "    ASCITES_2.0  VARICES_2.0  HISTOLOGY_1  \n",
       "12          1.0          1.0          0.0  \n",
       "85          1.0          1.0          0.0  \n",
       "91          1.0          1.0          1.0  \n",
       "69          0.0          1.0          0.0  \n",
       "16          1.0          1.0          1.0  "
      ]
     },
     "metadata": {},
     "output_type": "display_data"
    },
    {
     "data": {
      "text/html": [
       "<div>\n",
       "<style scoped>\n",
       "    .dataframe tbody tr th:only-of-type {\n",
       "        vertical-align: middle;\n",
       "    }\n",
       "\n",
       "    .dataframe tbody tr th {\n",
       "        vertical-align: top;\n",
       "    }\n",
       "\n",
       "    .dataframe thead th {\n",
       "        text-align: right;\n",
       "    }\n",
       "</style>\n",
       "<table border=\"1\" class=\"dataframe\">\n",
       "  <thead>\n",
       "    <tr style=\"text-align: right;\">\n",
       "      <th></th>\n",
       "      <th>SEX_F</th>\n",
       "      <th>STEROID_2.0</th>\n",
       "      <th>ANTIVIRALS_1</th>\n",
       "      <th>FATIGUE_2</th>\n",
       "      <th>MALAISE_2</th>\n",
       "      <th>ANOREXIA_1</th>\n",
       "      <th>LIVER BIG_1.0</th>\n",
       "      <th>LIVER FIRM_2.0</th>\n",
       "      <th>SPLEEN PALPABLE_1.0</th>\n",
       "      <th>SPIDERS_2.0</th>\n",
       "      <th>ASCITES_2.0</th>\n",
       "      <th>VARICES_2.0</th>\n",
       "      <th>HISTOLOGY_1</th>\n",
       "    </tr>\n",
       "  </thead>\n",
       "  <tbody>\n",
       "    <tr>\n",
       "      <th>41</th>\n",
       "      <td>0.0</td>\n",
       "      <td>1.0</td>\n",
       "      <td>0.0</td>\n",
       "      <td>0.0</td>\n",
       "      <td>0.0</td>\n",
       "      <td>0.0</td>\n",
       "      <td>0.0</td>\n",
       "      <td>1.0</td>\n",
       "      <td>0.0</td>\n",
       "      <td>1.0</td>\n",
       "      <td>1.0</td>\n",
       "      <td>1.0</td>\n",
       "      <td>1.0</td>\n",
       "    </tr>\n",
       "    <tr>\n",
       "      <th>28</th>\n",
       "      <td>0.0</td>\n",
       "      <td>1.0</td>\n",
       "      <td>0.0</td>\n",
       "      <td>0.0</td>\n",
       "      <td>0.0</td>\n",
       "      <td>0.0</td>\n",
       "      <td>0.0</td>\n",
       "      <td>0.0</td>\n",
       "      <td>1.0</td>\n",
       "      <td>0.0</td>\n",
       "      <td>0.0</td>\n",
       "      <td>1.0</td>\n",
       "      <td>0.0</td>\n",
       "    </tr>\n",
       "    <tr>\n",
       "      <th>52</th>\n",
       "      <td>0.0</td>\n",
       "      <td>0.0</td>\n",
       "      <td>0.0</td>\n",
       "      <td>0.0</td>\n",
       "      <td>0.0</td>\n",
       "      <td>0.0</td>\n",
       "      <td>0.0</td>\n",
       "      <td>1.0</td>\n",
       "      <td>0.0</td>\n",
       "      <td>1.0</td>\n",
       "      <td>1.0</td>\n",
       "      <td>1.0</td>\n",
       "      <td>1.0</td>\n",
       "    </tr>\n",
       "    <tr>\n",
       "      <th>15</th>\n",
       "      <td>1.0</td>\n",
       "      <td>0.0</td>\n",
       "      <td>1.0</td>\n",
       "      <td>1.0</td>\n",
       "      <td>1.0</td>\n",
       "      <td>0.0</td>\n",
       "      <td>0.0</td>\n",
       "      <td>0.0</td>\n",
       "      <td>0.0</td>\n",
       "      <td>1.0</td>\n",
       "      <td>1.0</td>\n",
       "      <td>1.0</td>\n",
       "      <td>1.0</td>\n",
       "    </tr>\n",
       "    <tr>\n",
       "      <th>87</th>\n",
       "      <td>0.0</td>\n",
       "      <td>1.0</td>\n",
       "      <td>1.0</td>\n",
       "      <td>1.0</td>\n",
       "      <td>1.0</td>\n",
       "      <td>0.0</td>\n",
       "      <td>0.0</td>\n",
       "      <td>1.0</td>\n",
       "      <td>0.0</td>\n",
       "      <td>1.0</td>\n",
       "      <td>1.0</td>\n",
       "      <td>1.0</td>\n",
       "      <td>1.0</td>\n",
       "    </tr>\n",
       "  </tbody>\n",
       "</table>\n",
       "</div>"
      ],
      "text/plain": [
       "    SEX_F  STEROID_2.0  ANTIVIRALS_1  FATIGUE_2  MALAISE_2  ANOREXIA_1  \\\n",
       "41    0.0          1.0           0.0        0.0        0.0         0.0   \n",
       "28    0.0          1.0           0.0        0.0        0.0         0.0   \n",
       "52    0.0          0.0           0.0        0.0        0.0         0.0   \n",
       "15    1.0          0.0           1.0        1.0        1.0         0.0   \n",
       "87    0.0          1.0           1.0        1.0        1.0         0.0   \n",
       "\n",
       "    LIVER BIG_1.0  LIVER FIRM_2.0  SPLEEN PALPABLE_1.0  SPIDERS_2.0  \\\n",
       "41            0.0             1.0                  0.0          1.0   \n",
       "28            0.0             0.0                  1.0          0.0   \n",
       "52            0.0             1.0                  0.0          1.0   \n",
       "15            0.0             0.0                  0.0          1.0   \n",
       "87            0.0             1.0                  0.0          1.0   \n",
       "\n",
       "    ASCITES_2.0  VARICES_2.0  HISTOLOGY_1  \n",
       "41          1.0          1.0          1.0  \n",
       "28          0.0          1.0          0.0  \n",
       "52          1.0          1.0          1.0  \n",
       "15          1.0          1.0          1.0  \n",
       "87          1.0          1.0          1.0  "
      ]
     },
     "metadata": {},
     "output_type": "display_data"
    }
   ],
   "source": [
    "from sklearn.preprocessing import OneHotEncoder\n",
    "\n",
    "encoder = OneHotEncoder(drop='first', categories = categories )\n",
    "\n",
    "#X_train:\n",
    "encoder.fit(X_train_cat) \n",
    "X_train_cat_encoded = encoder.transform(X_train_cat).toarray()\n",
    "cols = encoder.get_feature_names_out(input_features=X_train_cat.columns)\n",
    "X_train_cat_encoded_df = pd.DataFrame(X_train_cat_encoded, columns=cols, index = X_train_cat.index)\n",
    "display(X_train_cat_encoded_df.head())\n",
    "\n",
    "#X_test:\n",
    "X_test_cat_encoded = encoder.transform(X_test_cat).toarray()\n",
    "X_test_cat_encoded_df = pd.DataFrame(X_test_cat_encoded, columns=cols, index = X_test_cat.index )\n",
    "display(X_test_cat_encoded_df.head())\n"
   ]
  },
  {
   "cell_type": "code",
   "execution_count": 189,
   "metadata": {},
   "outputs": [
    {
     "data": {
      "text/html": [
       "<div>\n",
       "<style scoped>\n",
       "    .dataframe tbody tr th:only-of-type {\n",
       "        vertical-align: middle;\n",
       "    }\n",
       "\n",
       "    .dataframe tbody tr th {\n",
       "        vertical-align: top;\n",
       "    }\n",
       "\n",
       "    .dataframe thead th {\n",
       "        text-align: right;\n",
       "    }\n",
       "</style>\n",
       "<table border=\"1\" class=\"dataframe\">\n",
       "  <thead>\n",
       "    <tr style=\"text-align: right;\">\n",
       "      <th></th>\n",
       "      <th>SEX_F</th>\n",
       "      <th>STEROID_2.0</th>\n",
       "      <th>ANTIVIRALS_1</th>\n",
       "      <th>FATIGUE_2</th>\n",
       "      <th>MALAISE_2</th>\n",
       "      <th>ANOREXIA_1</th>\n",
       "      <th>LIVER BIG_1.0</th>\n",
       "      <th>LIVER FIRM_2.0</th>\n",
       "      <th>SPLEEN PALPABLE_1.0</th>\n",
       "      <th>SPIDERS_2.0</th>\n",
       "      <th>ASCITES_2.0</th>\n",
       "      <th>VARICES_2.0</th>\n",
       "      <th>HISTOLOGY_1</th>\n",
       "    </tr>\n",
       "  </thead>\n",
       "  <tbody>\n",
       "    <tr>\n",
       "      <th>0</th>\n",
       "      <td>0.0</td>\n",
       "      <td>1.0</td>\n",
       "      <td>0.0</td>\n",
       "      <td>0.0</td>\n",
       "      <td>1.0</td>\n",
       "      <td>0.0</td>\n",
       "      <td>0.0</td>\n",
       "      <td>0.0</td>\n",
       "      <td>0.0</td>\n",
       "      <td>1.0</td>\n",
       "      <td>1.0</td>\n",
       "      <td>1.0</td>\n",
       "      <td>1.0</td>\n",
       "    </tr>\n",
       "    <tr>\n",
       "      <th>1</th>\n",
       "      <td>1.0</td>\n",
       "      <td>1.0</td>\n",
       "      <td>1.0</td>\n",
       "      <td>0.0</td>\n",
       "      <td>0.0</td>\n",
       "      <td>1.0</td>\n",
       "      <td>0.0</td>\n",
       "      <td>1.0</td>\n",
       "      <td>0.0</td>\n",
       "      <td>1.0</td>\n",
       "      <td>1.0</td>\n",
       "      <td>1.0</td>\n",
       "      <td>1.0</td>\n",
       "    </tr>\n",
       "    <tr>\n",
       "      <th>2</th>\n",
       "      <td>0.0</td>\n",
       "      <td>0.0</td>\n",
       "      <td>0.0</td>\n",
       "      <td>0.0</td>\n",
       "      <td>0.0</td>\n",
       "      <td>1.0</td>\n",
       "      <td>0.0</td>\n",
       "      <td>0.0</td>\n",
       "      <td>0.0</td>\n",
       "      <td>1.0</td>\n",
       "      <td>1.0</td>\n",
       "      <td>1.0</td>\n",
       "      <td>1.0</td>\n",
       "    </tr>\n",
       "    <tr>\n",
       "      <th>3</th>\n",
       "      <td>0.0</td>\n",
       "      <td>0.0</td>\n",
       "      <td>0.0</td>\n",
       "      <td>0.0</td>\n",
       "      <td>0.0</td>\n",
       "      <td>1.0</td>\n",
       "      <td>0.0</td>\n",
       "      <td>0.0</td>\n",
       "      <td>0.0</td>\n",
       "      <td>1.0</td>\n",
       "      <td>1.0</td>\n",
       "      <td>1.0</td>\n",
       "      <td>1.0</td>\n",
       "    </tr>\n",
       "    <tr>\n",
       "      <th>4</th>\n",
       "      <td>0.0</td>\n",
       "      <td>1.0</td>\n",
       "      <td>0.0</td>\n",
       "      <td>1.0</td>\n",
       "      <td>1.0</td>\n",
       "      <td>0.0</td>\n",
       "      <td>0.0</td>\n",
       "      <td>1.0</td>\n",
       "      <td>0.0</td>\n",
       "      <td>1.0</td>\n",
       "      <td>1.0</td>\n",
       "      <td>1.0</td>\n",
       "      <td>1.0</td>\n",
       "    </tr>\n",
       "  </tbody>\n",
       "</table>\n",
       "</div>"
      ],
      "text/plain": [
       "   SEX_F  STEROID_2.0  ANTIVIRALS_1  FATIGUE_2  MALAISE_2  ANOREXIA_1  \\\n",
       "0    0.0          1.0           0.0        0.0        1.0         0.0   \n",
       "1    1.0          1.0           1.0        0.0        0.0         1.0   \n",
       "2    0.0          0.0           0.0        0.0        0.0         1.0   \n",
       "3    0.0          0.0           0.0        0.0        0.0         1.0   \n",
       "4    0.0          1.0           0.0        1.0        1.0         0.0   \n",
       "\n",
       "   LIVER BIG_1.0  LIVER FIRM_2.0  SPLEEN PALPABLE_1.0  SPIDERS_2.0  \\\n",
       "0            0.0             0.0                  0.0          1.0   \n",
       "1            0.0             1.0                  0.0          1.0   \n",
       "2            0.0             0.0                  0.0          1.0   \n",
       "3            0.0             0.0                  0.0          1.0   \n",
       "4            0.0             1.0                  0.0          1.0   \n",
       "\n",
       "   ASCITES_2.0  VARICES_2.0  HISTOLOGY_1  \n",
       "0          1.0          1.0          1.0  \n",
       "1          1.0          1.0          1.0  \n",
       "2          1.0          1.0          1.0  \n",
       "3          1.0          1.0          1.0  \n",
       "4          1.0          1.0          1.0  "
      ]
     },
     "metadata": {},
     "output_type": "display_data"
    }
   ],
   "source": [
    "#X_validate:\n",
    "X_validate_cat_encoded = encoder.transform(X_validate_cat).toarray()\n",
    "X_validate_cat_encoded_df = pd.DataFrame(X_validate_cat_encoded, columns=cols, index = X_validate_cat.index )\n",
    "display(X_validate_cat_encoded_df.head())"
   ]
  },
  {
   "cell_type": "code",
   "execution_count": null,
   "metadata": {},
   "outputs": [],
   "source": []
  },
  {
   "cell_type": "code",
   "execution_count": 191,
   "metadata": {},
   "outputs": [],
   "source": [
    "X_train_enc = pd.concat([X_train_cat_encoded_df, X_train_num], axis=1)"
   ]
  },
  {
   "cell_type": "code",
   "execution_count": 192,
   "metadata": {},
   "outputs": [],
   "source": [
    "X_test_enc = pd.concat([X_test_cat_encoded_df, X_test_num], axis=1)"
   ]
  },
  {
   "cell_type": "code",
   "execution_count": 193,
   "metadata": {},
   "outputs": [],
   "source": [
    "X_validate_enc = pd.concat([X_validate_cat_encoded_df, X_validate_num], axis=1)"
   ]
  },
  {
   "cell_type": "code",
   "execution_count": null,
   "metadata": {},
   "outputs": [],
   "source": []
  },
  {
   "cell_type": "code",
   "execution_count": 194,
   "metadata": {},
   "outputs": [
    {
     "data": {
      "image/png": "[encoded data removed]",
      "text/plain": [
       "<Figure size 360x360 with 1 Axes>"
      ]
     },
     "metadata": {
      "needs_background": "light"
     },
     "output_type": "display_data"
    },
    {
     "data": {
      "image/png": "[encoded data removed]",
      "text/plain": [
       "<Figure size 360x360 with 1 Axes>"
      ]
     },
     "metadata": {
      "needs_background": "light"
     },
     "output_type": "display_data"
    },
    {
     "data": {
      "image/png": "[encoded data removed]",
      "text/plain": [
       "<Figure size 360x360 with 1 Axes>"
      ]
     },
     "metadata": {
      "needs_background": "light"
     },
     "output_type": "display_data"
    },
    {
     "data": {
      "image/png": "[encoded data removed]",
      "text/plain": [
       "<Figure size 360x360 with 1 Axes>"
      ]
     },
     "metadata": {
      "needs_background": "light"
     },
     "output_type": "display_data"
    },
    {
     "data": {
      "image/png": "[encoded data removed]",
      "text/plain": [
       "<Figure size 360x360 with 1 Axes>"
      ]
     },
     "metadata": {
      "needs_background": "light"
     },
     "output_type": "display_data"
    },
    {
     "data": {
      "image/png": "[encoded data removed]",
      "text/plain": [
       "<Figure size 360x360 with 1 Axes>"
      ]
     },
     "metadata": {
      "needs_background": "light"
     },
     "output_type": "display_data"
    },
    {
     "data": {
      "image/png": "[encoded data removed]",
      "text/plain": [
       "<Figure size 360x360 with 1 Axes>"
      ]
     },
     "metadata": {
      "needs_background": "light"
     },
     "output_type": "display_data"
    },
    {
     "data": {
      "image/png": "[encoded data removed]",
      "text/plain": [
       "<Figure size 360x360 with 1 Axes>"
      ]
     },
     "metadata": {
      "needs_background": "light"
     },
     "output_type": "display_data"
    },
    {
     "data": {
      "image/png": "[encoded data removed]",
      "text/plain": [
       "<Figure size 360x360 with 1 Axes>"
      ]
     },
     "metadata": {
      "needs_background": "light"
     },
     "output_type": "display_data"
    },
    {
     "data": {
      "image/png": "[encoded data removed]",
      "text/plain": [
       "<Figure size 360x360 with 1 Axes>"
      ]
     },
     "metadata": {
      "needs_background": "light"
     },
     "output_type": "display_data"
    },
    {
     "data": {
      "image/png": "[encoded data removed]",
      "text/plain": [
       "<Figure size 360x360 with 1 Axes>"
      ]
     },
     "metadata": {
      "needs_background": "light"
     },
     "output_type": "display_data"
    },
    {
     "data": {
      "image/png": "[encoded data removed]",
      "text/plain": [
       "<Figure size 360x360 with 1 Axes>"
      ]
     },
     "metadata": {
      "needs_background": "light"
     },
     "output_type": "display_data"
    },
    {
     "data": {
      "image/png": "[encoded data removed]",
      "text/plain": [
       "<Figure size 360x360 with 1 Axes>"
      ]
     },
     "metadata": {
      "needs_background": "light"
     },
     "output_type": "display_data"
    },
    {
     "data": {
      "image/png": "[encoded data removed]",
      "text/plain": [
       "<Figure size 360x360 with 1 Axes>"
      ]
     },
     "metadata": {
      "needs_background": "light"
     },
     "output_type": "display_data"
    },
    {
     "data": {
      "image/png": "[encoded data removed]",
      "text/plain": [
       "<Figure size 360x360 with 1 Axes>"
      ]
     },
     "metadata": {
      "needs_background": "light"
     },
     "output_type": "display_data"
    },
    {
     "data": {
      "image/png": "[encoded data removed]",
      "text/plain": [
       "<Figure size 360x360 with 1 Axes>"
      ]
     },
     "metadata": {
      "needs_background": "light"
     },
     "output_type": "display_data"
    },
    {
     "data": {
      "image/png": "[encoded data removed]",
      "text/plain": [
       "<Figure size 360x360 with 1 Axes>"
      ]
     },
     "metadata": {
      "needs_background": "light"
     },
     "output_type": "display_data"
    },
    {
     "data": {
      "image/png": "[encoded data removed]",
      "text/plain": [
       "<Figure size 360x360 with 1 Axes>"
      ]
     },
     "metadata": {
      "needs_background": "light"
     },
     "output_type": "display_data"
    }
   ],
   "source": [
    "hp.plot_continous(X_train_enc)"
   ]
  },
  {
   "cell_type": "code",
   "execution_count": 196,
   "metadata": {},
   "outputs": [
    {
     "data": {
      "text/html": [
       "<div>\n",
       "<style scoped>\n",
       "    .dataframe tbody tr th:only-of-type {\n",
       "        vertical-align: middle;\n",
       "    }\n",
       "\n",
       "    .dataframe tbody tr th {\n",
       "        vertical-align: top;\n",
       "    }\n",
       "\n",
       "    .dataframe thead th {\n",
       "        text-align: right;\n",
       "    }\n",
       "</style>\n",
       "<table border=\"1\" class=\"dataframe\">\n",
       "  <thead>\n",
       "    <tr style=\"text-align: right;\">\n",
       "      <th></th>\n",
       "      <th>SEX_F</th>\n",
       "      <th>STEROID_2.0</th>\n",
       "      <th>ANTIVIRALS_1</th>\n",
       "      <th>FATIGUE_2</th>\n",
       "      <th>MALAISE_2</th>\n",
       "      <th>ANOREXIA_1</th>\n",
       "      <th>LIVER BIG_1.0</th>\n",
       "      <th>LIVER FIRM_2.0</th>\n",
       "      <th>SPLEEN PALPABLE_1.0</th>\n",
       "      <th>SPIDERS_2.0</th>\n",
       "      <th>ASCITES_2.0</th>\n",
       "      <th>VARICES_2.0</th>\n",
       "      <th>HISTOLOGY_1</th>\n",
       "      <th>AGE</th>\n",
       "      <th>BILIRUBIN</th>\n",
       "      <th>ALK PHOSPHATE</th>\n",
       "      <th>SGOT</th>\n",
       "      <th>ALBUMIN</th>\n",
       "    </tr>\n",
       "  </thead>\n",
       "  <tbody>\n",
       "    <tr>\n",
       "      <th>12</th>\n",
       "      <td>-0.256495</td>\n",
       "      <td>0.963624</td>\n",
       "      <td>-0.375293</td>\n",
       "      <td>1.206045</td>\n",
       "      <td>0.726844</td>\n",
       "      <td>-0.476731</td>\n",
       "      <td>-0.457116</td>\n",
       "      <td>-1.237437</td>\n",
       "      <td>1.870829</td>\n",
       "      <td>-1.454436</td>\n",
       "      <td>0.353553</td>\n",
       "      <td>0.375293</td>\n",
       "      <td>-0.940064</td>\n",
       "      <td>0.742812</td>\n",
       "      <td>-0.079629</td>\n",
       "      <td>-0.347800</td>\n",
       "      <td>0.415294</td>\n",
       "      <td>0.151706</td>\n",
       "    </tr>\n",
       "    <tr>\n",
       "      <th>85</th>\n",
       "      <td>-0.256495</td>\n",
       "      <td>-1.037749</td>\n",
       "      <td>-0.375293</td>\n",
       "      <td>1.206045</td>\n",
       "      <td>0.726844</td>\n",
       "      <td>-0.476731</td>\n",
       "      <td>-0.457116</td>\n",
       "      <td>0.808122</td>\n",
       "      <td>-0.534522</td>\n",
       "      <td>0.687552</td>\n",
       "      <td>0.353553</td>\n",
       "      <td>0.375293</td>\n",
       "      <td>-0.940064</td>\n",
       "      <td>-0.479993</td>\n",
       "      <td>0.139194</td>\n",
       "      <td>0.914643</td>\n",
       "      <td>0.415294</td>\n",
       "      <td>-0.998699</td>\n",
       "    </tr>\n",
       "    <tr>\n",
       "      <th>91</th>\n",
       "      <td>-0.256495</td>\n",
       "      <td>0.963624</td>\n",
       "      <td>-0.375293</td>\n",
       "      <td>1.206045</td>\n",
       "      <td>0.726844</td>\n",
       "      <td>-0.476731</td>\n",
       "      <td>-0.457116</td>\n",
       "      <td>0.808122</td>\n",
       "      <td>-0.534522</td>\n",
       "      <td>0.687552</td>\n",
       "      <td>0.353553</td>\n",
       "      <td>0.375293</td>\n",
       "      <td>1.063757</td>\n",
       "      <td>-1.223313</td>\n",
       "      <td>-0.633898</td>\n",
       "      <td>-0.250405</td>\n",
       "      <td>-0.453901</td>\n",
       "      <td>0.541504</td>\n",
       "    </tr>\n",
       "    <tr>\n",
       "      <th>69</th>\n",
       "      <td>-0.256495</td>\n",
       "      <td>-1.037749</td>\n",
       "      <td>-0.375293</td>\n",
       "      <td>-0.829156</td>\n",
       "      <td>-1.375811</td>\n",
       "      <td>-0.476731</td>\n",
       "      <td>-0.457116</td>\n",
       "      <td>0.808122</td>\n",
       "      <td>1.870829</td>\n",
       "      <td>0.687552</td>\n",
       "      <td>-2.828427</td>\n",
       "      <td>0.375293</td>\n",
       "      <td>-0.940064</td>\n",
       "      <td>1.104653</td>\n",
       "      <td>1.853191</td>\n",
       "      <td>0.516883</td>\n",
       "      <td>-0.880070</td>\n",
       "      <td>-0.702547</td>\n",
       "    </tr>\n",
       "    <tr>\n",
       "      <th>16</th>\n",
       "      <td>-0.256495</td>\n",
       "      <td>0.963624</td>\n",
       "      <td>2.664583</td>\n",
       "      <td>1.206045</td>\n",
       "      <td>0.726844</td>\n",
       "      <td>-0.476731</td>\n",
       "      <td>-0.457116</td>\n",
       "      <td>0.808122</td>\n",
       "      <td>-0.534522</td>\n",
       "      <td>0.687552</td>\n",
       "      <td>0.353553</td>\n",
       "      <td>0.375293</td>\n",
       "      <td>1.063757</td>\n",
       "      <td>-0.897687</td>\n",
       "      <td>-0.988607</td>\n",
       "      <td>-1.932943</td>\n",
       "      <td>-0.039364</td>\n",
       "      <td>0.151706</td>\n",
       "    </tr>\n",
       "  </tbody>\n",
       "</table>\n",
       "</div>"
      ],
      "text/plain": [
       "       SEX_F  STEROID_2.0  ANTIVIRALS_1  FATIGUE_2  MALAISE_2  ANOREXIA_1  \\\n",
       "12 -0.256495     0.963624     -0.375293   1.206045   0.726844   -0.476731   \n",
       "85 -0.256495    -1.037749     -0.375293   1.206045   0.726844   -0.476731   \n",
       "91 -0.256495     0.963624     -0.375293   1.206045   0.726844   -0.476731   \n",
       "69 -0.256495    -1.037749     -0.375293  -0.829156  -1.375811   -0.476731   \n",
       "16 -0.256495     0.963624      2.664583   1.206045   0.726844   -0.476731   \n",
       "\n",
       "    LIVER BIG_1.0  LIVER FIRM_2.0  SPLEEN PALPABLE_1.0  SPIDERS_2.0  \\\n",
       "12      -0.457116       -1.237437             1.870829    -1.454436   \n",
       "85      -0.457116        0.808122            -0.534522     0.687552   \n",
       "91      -0.457116        0.808122            -0.534522     0.687552   \n",
       "69      -0.457116        0.808122             1.870829     0.687552   \n",
       "16      -0.457116        0.808122            -0.534522     0.687552   \n",
       "\n",
       "    ASCITES_2.0  VARICES_2.0  HISTOLOGY_1       AGE  BILIRUBIN  ALK PHOSPHATE  \\\n",
       "12     0.353553     0.375293    -0.940064  0.742812  -0.079629      -0.347800   \n",
       "85     0.353553     0.375293    -0.940064 -0.479993   0.139194       0.914643   \n",
       "91     0.353553     0.375293     1.063757 -1.223313  -0.633898      -0.250405   \n",
       "69    -2.828427     0.375293    -0.940064  1.104653   1.853191       0.516883   \n",
       "16     0.353553     0.375293     1.063757 -0.897687  -0.988607      -1.932943   \n",
       "\n",
       "        SGOT   ALBUMIN  \n",
       "12  0.415294  0.151706  \n",
       "85  0.415294 -0.998699  \n",
       "91 -0.453901  0.541504  \n",
       "69 -0.880070 -0.702547  \n",
       "16 -0.039364  0.151706  "
      ]
     },
     "metadata": {},
     "output_type": "display_data"
    },
    {
     "data": {
      "text/html": [
       "<div>\n",
       "<style scoped>\n",
       "    .dataframe tbody tr th:only-of-type {\n",
       "        vertical-align: middle;\n",
       "    }\n",
       "\n",
       "    .dataframe tbody tr th {\n",
       "        vertical-align: top;\n",
       "    }\n",
       "\n",
       "    .dataframe thead th {\n",
       "        text-align: right;\n",
       "    }\n",
       "</style>\n",
       "<table border=\"1\" class=\"dataframe\">\n",
       "  <thead>\n",
       "    <tr style=\"text-align: right;\">\n",
       "      <th></th>\n",
       "      <th>SEX_F</th>\n",
       "      <th>STEROID_2.0</th>\n",
       "      <th>ANTIVIRALS_1</th>\n",
       "      <th>FATIGUE_2</th>\n",
       "      <th>MALAISE_2</th>\n",
       "      <th>ANOREXIA_1</th>\n",
       "      <th>LIVER BIG_1.0</th>\n",
       "      <th>LIVER FIRM_2.0</th>\n",
       "      <th>SPLEEN PALPABLE_1.0</th>\n",
       "      <th>SPIDERS_2.0</th>\n",
       "      <th>ASCITES_2.0</th>\n",
       "      <th>VARICES_2.0</th>\n",
       "      <th>HISTOLOGY_1</th>\n",
       "      <th>AGE</th>\n",
       "      <th>BILIRUBIN</th>\n",
       "      <th>ALK PHOSPHATE</th>\n",
       "      <th>SGOT</th>\n",
       "      <th>ALBUMIN</th>\n",
       "    </tr>\n",
       "  </thead>\n",
       "  <tbody>\n",
       "    <tr>\n",
       "      <th>41</th>\n",
       "      <td>-0.256495</td>\n",
       "      <td>0.963624</td>\n",
       "      <td>-0.375293</td>\n",
       "      <td>-0.829156</td>\n",
       "      <td>-1.375811</td>\n",
       "      <td>-0.476731</td>\n",
       "      <td>-0.457116</td>\n",
       "      <td>0.808122</td>\n",
       "      <td>-0.534522</td>\n",
       "      <td>0.687552</td>\n",
       "      <td>0.353553</td>\n",
       "      <td>0.375293</td>\n",
       "      <td>1.063757</td>\n",
       "      <td>-1.142668</td>\n",
       "      <td>-0.988607</td>\n",
       "      <td>-0.700621</td>\n",
       "      <td>0.857928</td>\n",
       "      <td>0.960231</td>\n",
       "    </tr>\n",
       "    <tr>\n",
       "      <th>28</th>\n",
       "      <td>-0.256495</td>\n",
       "      <td>0.963624</td>\n",
       "      <td>-0.375293</td>\n",
       "      <td>-0.829156</td>\n",
       "      <td>-1.375811</td>\n",
       "      <td>-0.476731</td>\n",
       "      <td>-0.457116</td>\n",
       "      <td>-1.237437</td>\n",
       "      <td>1.870829</td>\n",
       "      <td>-1.454436</td>\n",
       "      <td>-2.828427</td>\n",
       "      <td>0.375293</td>\n",
       "      <td>-0.940064</td>\n",
       "      <td>2.124229</td>\n",
       "      <td>-3.340538</td>\n",
       "      <td>1.508793</td>\n",
       "      <td>-0.014943</td>\n",
       "      <td>-1.518308</td>\n",
       "    </tr>\n",
       "    <tr>\n",
       "      <th>52</th>\n",
       "      <td>-0.256495</td>\n",
       "      <td>-1.037749</td>\n",
       "      <td>-0.375293</td>\n",
       "      <td>-0.829156</td>\n",
       "      <td>-1.375811</td>\n",
       "      <td>-0.476731</td>\n",
       "      <td>-0.457116</td>\n",
       "      <td>0.808122</td>\n",
       "      <td>-0.534522</td>\n",
       "      <td>0.687552</td>\n",
       "      <td>0.353553</td>\n",
       "      <td>0.375293</td>\n",
       "      <td>1.063757</td>\n",
       "      <td>0.209952</td>\n",
       "      <td>0.876761</td>\n",
       "      <td>-0.917350</td>\n",
       "      <td>0.296717</td>\n",
       "      <td>-0.380855</td>\n",
       "    </tr>\n",
       "    <tr>\n",
       "      <th>15</th>\n",
       "      <td>3.898718</td>\n",
       "      <td>-1.037749</td>\n",
       "      <td>2.664583</td>\n",
       "      <td>1.206045</td>\n",
       "      <td>0.726844</td>\n",
       "      <td>-0.476731</td>\n",
       "      <td>-0.457116</td>\n",
       "      <td>-1.237437</td>\n",
       "      <td>-0.534522</td>\n",
       "      <td>0.687552</td>\n",
       "      <td>0.353553</td>\n",
       "      <td>0.375293</td>\n",
       "      <td>1.063757</td>\n",
       "      <td>-0.648411</td>\n",
       "      <td>-1.413131</td>\n",
       "      <td>-3.067076</td>\n",
       "      <td>-1.103595</td>\n",
       "      <td>0.151706</td>\n",
       "    </tr>\n",
       "    <tr>\n",
       "      <th>87</th>\n",
       "      <td>-0.256495</td>\n",
       "      <td>0.963624</td>\n",
       "      <td>2.664583</td>\n",
       "      <td>1.206045</td>\n",
       "      <td>0.726844</td>\n",
       "      <td>-0.476731</td>\n",
       "      <td>-0.457116</td>\n",
       "      <td>0.808122</td>\n",
       "      <td>-0.534522</td>\n",
       "      <td>0.687552</td>\n",
       "      <td>0.353553</td>\n",
       "      <td>0.375293</td>\n",
       "      <td>1.063757</td>\n",
       "      <td>-0.979841</td>\n",
       "      <td>-0.988607</td>\n",
       "      <td>-1.612020</td>\n",
       "      <td>-0.453901</td>\n",
       "      <td>-0.032645</td>\n",
       "    </tr>\n",
       "  </tbody>\n",
       "</table>\n",
       "</div>"
      ],
      "text/plain": [
       "       SEX_F  STEROID_2.0  ANTIVIRALS_1  FATIGUE_2  MALAISE_2  ANOREXIA_1  \\\n",
       "41 -0.256495     0.963624     -0.375293  -0.829156  -1.375811   -0.476731   \n",
       "28 -0.256495     0.963624     -0.375293  -0.829156  -1.375811   -0.476731   \n",
       "52 -0.256495    -1.037749     -0.375293  -0.829156  -1.375811   -0.476731   \n",
       "15  3.898718    -1.037749      2.664583   1.206045   0.726844   -0.476731   \n",
       "87 -0.256495     0.963624      2.664583   1.206045   0.726844   -0.476731   \n",
       "\n",
       "    LIVER BIG_1.0  LIVER FIRM_2.0  SPLEEN PALPABLE_1.0  SPIDERS_2.0  \\\n",
       "41      -0.457116        0.808122            -0.534522     0.687552   \n",
       "28      -0.457116       -1.237437             1.870829    -1.454436   \n",
       "52      -0.457116        0.808122            -0.534522     0.687552   \n",
       "15      -0.457116       -1.237437            -0.534522     0.687552   \n",
       "87      -0.457116        0.808122            -0.534522     0.687552   \n",
       "\n",
       "    ASCITES_2.0  VARICES_2.0  HISTOLOGY_1       AGE  BILIRUBIN  ALK PHOSPHATE  \\\n",
       "41     0.353553     0.375293     1.063757 -1.142668  -0.988607      -0.700621   \n",
       "28    -2.828427     0.375293    -0.940064  2.124229  -3.340538       1.508793   \n",
       "52     0.353553     0.375293     1.063757  0.209952   0.876761      -0.917350   \n",
       "15     0.353553     0.375293     1.063757 -0.648411  -1.413131      -3.067076   \n",
       "87     0.353553     0.375293     1.063757 -0.979841  -0.988607      -1.612020   \n",
       "\n",
       "        SGOT   ALBUMIN  \n",
       "41  0.857928  0.960231  \n",
       "28 -0.014943 -1.518308  \n",
       "52  0.296717 -0.380855  \n",
       "15 -1.103595  0.151706  \n",
       "87 -0.453901 -0.032645  "
      ]
     },
     "metadata": {},
     "output_type": "display_data"
    }
   ],
   "source": [
    "from sklearn.preprocessing import PowerTransformer\n",
    "\n",
    "#X_train:\n",
    "ptransformer = PowerTransformer()\n",
    "ptransformer.fit(X_train_enc) \n",
    "X_train_ptrans = ptransformer.transform(X_train_enc)\n",
    "X_train_ptrans_df = pd.DataFrame(X_train_ptrans, columns=X_train_enc.columns, index = X_train_enc.index )\n",
    "display(X_train_ptrans_df.head())\n",
    "\n",
    "#X_test:\n",
    "X_test_ptrans = ptransformer.transform(X_test_enc)\n",
    "X_test_ptrans_df = pd.DataFrame(X_test_ptrans, columns=X_test_enc.columns, index = X_test_enc.index )\n",
    "display(X_test_ptrans_df.head())\n"
   ]
  },
  {
   "cell_type": "code",
   "execution_count": 197,
   "metadata": {},
   "outputs": [
    {
     "data": {
      "text/html": [
       "<div>\n",
       "<style scoped>\n",
       "    .dataframe tbody tr th:only-of-type {\n",
       "        vertical-align: middle;\n",
       "    }\n",
       "\n",
       "    .dataframe tbody tr th {\n",
       "        vertical-align: top;\n",
       "    }\n",
       "\n",
       "    .dataframe thead th {\n",
       "        text-align: right;\n",
       "    }\n",
       "</style>\n",
       "<table border=\"1\" class=\"dataframe\">\n",
       "  <thead>\n",
       "    <tr style=\"text-align: right;\">\n",
       "      <th></th>\n",
       "      <th>SEX_F</th>\n",
       "      <th>STEROID_2.0</th>\n",
       "      <th>ANTIVIRALS_1</th>\n",
       "      <th>FATIGUE_2</th>\n",
       "      <th>MALAISE_2</th>\n",
       "      <th>ANOREXIA_1</th>\n",
       "      <th>LIVER BIG_1.0</th>\n",
       "      <th>LIVER FIRM_2.0</th>\n",
       "      <th>SPLEEN PALPABLE_1.0</th>\n",
       "      <th>SPIDERS_2.0</th>\n",
       "      <th>ASCITES_2.0</th>\n",
       "      <th>VARICES_2.0</th>\n",
       "      <th>HISTOLOGY_1</th>\n",
       "      <th>AGE</th>\n",
       "      <th>BILIRUBIN</th>\n",
       "      <th>ALK PHOSPHATE</th>\n",
       "      <th>SGOT</th>\n",
       "      <th>ALBUMIN</th>\n",
       "    </tr>\n",
       "  </thead>\n",
       "  <tbody>\n",
       "    <tr>\n",
       "      <th>0</th>\n",
       "      <td>-0.256495</td>\n",
       "      <td>0.963624</td>\n",
       "      <td>-0.375293</td>\n",
       "      <td>-0.829156</td>\n",
       "      <td>0.726844</td>\n",
       "      <td>-0.476731</td>\n",
       "      <td>-0.457116</td>\n",
       "      <td>-1.237437</td>\n",
       "      <td>-0.534522</td>\n",
       "      <td>0.687552</td>\n",
       "      <td>0.353553</td>\n",
       "      <td>0.375293</td>\n",
       "      <td>1.063757</td>\n",
       "      <td>-0.224209</td>\n",
       "      <td>-0.988607</td>\n",
       "      <td>-1.465907</td>\n",
       "      <td>-0.142925</td>\n",
       "      <td>0.960231</td>\n",
       "    </tr>\n",
       "    <tr>\n",
       "      <th>1</th>\n",
       "      <td>3.898718</td>\n",
       "      <td>0.963624</td>\n",
       "      <td>2.664583</td>\n",
       "      <td>-0.829156</td>\n",
       "      <td>-1.375811</td>\n",
       "      <td>2.097618</td>\n",
       "      <td>-0.457116</td>\n",
       "      <td>0.808122</td>\n",
       "      <td>-0.534522</td>\n",
       "      <td>0.687552</td>\n",
       "      <td>0.353553</td>\n",
       "      <td>0.375293</td>\n",
       "      <td>1.063757</td>\n",
       "      <td>-0.051684</td>\n",
       "      <td>-0.988607</td>\n",
       "      <td>-0.470176</td>\n",
       "      <td>-0.014943</td>\n",
       "      <td>2.399518</td>\n",
       "    </tr>\n",
       "    <tr>\n",
       "      <th>2</th>\n",
       "      <td>-0.256495</td>\n",
       "      <td>-1.037749</td>\n",
       "      <td>-0.375293</td>\n",
       "      <td>-0.829156</td>\n",
       "      <td>-1.375811</td>\n",
       "      <td>2.097618</td>\n",
       "      <td>-0.457116</td>\n",
       "      <td>-1.237437</td>\n",
       "      <td>-0.534522</td>\n",
       "      <td>0.687552</td>\n",
       "      <td>0.353553</td>\n",
       "      <td>0.375293</td>\n",
       "      <td>1.063757</td>\n",
       "      <td>-1.142668</td>\n",
       "      <td>0.876761</td>\n",
       "      <td>-2.049808</td>\n",
       "      <td>0.980923</td>\n",
       "      <td>0.151706</td>\n",
       "    </tr>\n",
       "    <tr>\n",
       "      <th>3</th>\n",
       "      <td>-0.256495</td>\n",
       "      <td>-1.037749</td>\n",
       "      <td>-0.375293</td>\n",
       "      <td>-0.829156</td>\n",
       "      <td>-1.375811</td>\n",
       "      <td>2.097618</td>\n",
       "      <td>-0.457116</td>\n",
       "      <td>-1.237437</td>\n",
       "      <td>-0.534522</td>\n",
       "      <td>0.687552</td>\n",
       "      <td>0.353553</td>\n",
       "      <td>0.375293</td>\n",
       "      <td>1.063757</td>\n",
       "      <td>-0.479993</td>\n",
       "      <td>-0.079629</td>\n",
       "      <td>-0.269568</td>\n",
       "      <td>-0.227533</td>\n",
       "      <td>0.151706</td>\n",
       "    </tr>\n",
       "    <tr>\n",
       "      <th>4</th>\n",
       "      <td>-0.256495</td>\n",
       "      <td>0.963624</td>\n",
       "      <td>-0.375293</td>\n",
       "      <td>1.206045</td>\n",
       "      <td>0.726844</td>\n",
       "      <td>-0.476731</td>\n",
       "      <td>-0.457116</td>\n",
       "      <td>0.808122</td>\n",
       "      <td>-0.534522</td>\n",
       "      <td>0.687552</td>\n",
       "      <td>0.353553</td>\n",
       "      <td>0.375293</td>\n",
       "      <td>1.063757</td>\n",
       "      <td>-0.815057</td>\n",
       "      <td>-0.988607</td>\n",
       "      <td>0.111749</td>\n",
       "      <td>0.222238</td>\n",
       "      <td>0.151706</td>\n",
       "    </tr>\n",
       "  </tbody>\n",
       "</table>\n",
       "</div>"
      ],
      "text/plain": [
       "      SEX_F  STEROID_2.0  ANTIVIRALS_1  FATIGUE_2  MALAISE_2  ANOREXIA_1  \\\n",
       "0 -0.256495     0.963624     -0.375293  -0.829156   0.726844   -0.476731   \n",
       "1  3.898718     0.963624      2.664583  -0.829156  -1.375811    2.097618   \n",
       "2 -0.256495    -1.037749     -0.375293  -0.829156  -1.375811    2.097618   \n",
       "3 -0.256495    -1.037749     -0.375293  -0.829156  -1.375811    2.097618   \n",
       "4 -0.256495     0.963624     -0.375293   1.206045   0.726844   -0.476731   \n",
       "\n",
       "   LIVER BIG_1.0  LIVER FIRM_2.0  SPLEEN PALPABLE_1.0  SPIDERS_2.0  \\\n",
       "0      -0.457116       -1.237437            -0.534522     0.687552   \n",
       "1      -0.457116        0.808122            -0.534522     0.687552   \n",
       "2      -0.457116       -1.237437            -0.534522     0.687552   \n",
       "3      -0.457116       -1.237437            -0.534522     0.687552   \n",
       "4      -0.457116        0.808122            -0.534522     0.687552   \n",
       "\n",
       "   ASCITES_2.0  VARICES_2.0  HISTOLOGY_1       AGE  BILIRUBIN  ALK PHOSPHATE  \\\n",
       "0     0.353553     0.375293     1.063757 -0.224209  -0.988607      -1.465907   \n",
       "1     0.353553     0.375293     1.063757 -0.051684  -0.988607      -0.470176   \n",
       "2     0.353553     0.375293     1.063757 -1.142668   0.876761      -2.049808   \n",
       "3     0.353553     0.375293     1.063757 -0.479993  -0.079629      -0.269568   \n",
       "4     0.353553     0.375293     1.063757 -0.815057  -0.988607       0.111749   \n",
       "\n",
       "       SGOT   ALBUMIN  \n",
       "0 -0.142925  0.960231  \n",
       "1 -0.014943  2.399518  \n",
       "2  0.980923  0.151706  \n",
       "3 -0.227533  0.151706  \n",
       "4  0.222238  0.151706  "
      ]
     },
     "metadata": {},
     "output_type": "display_data"
    }
   ],
   "source": [
    "#X_validate:\n",
    "X_validate_ptrans = ptransformer.transform(X_validate_enc)\n",
    "X_validate_ptrans_df = pd.DataFrame(X_validate_ptrans, columns=X_validate_enc.columns, index = X_validate_enc.index )\n",
    "display(X_validate_ptrans_df.head())"
   ]
  },
  {
   "cell_type": "code",
   "execution_count": 198,
   "metadata": {},
   "outputs": [
    {
     "data": {
      "image/png": "[encoded data removed]",
      "text/plain": [
       "<Figure size 360x360 with 1 Axes>"
      ]
     },
     "metadata": {
      "needs_background": "light"
     },
     "output_type": "display_data"
    },
    {
     "data": {
      "image/png": "[encoded data removed]",
      "text/plain": [
       "<Figure size 360x360 with 1 Axes>"
      ]
     },
     "metadata": {
      "needs_background": "light"
     },
     "output_type": "display_data"
    },
    {
     "data": {
      "image/png": "[encoded data removed]",
      "text/plain": [
       "<Figure size 360x360 with 1 Axes>"
      ]
     },
     "metadata": {
      "needs_background": "light"
     },
     "output_type": "display_data"
    },
    {
     "data": {
      "image/png": "[encoded data removed]",
      "text/plain": [
       "<Figure size 360x360 with 1 Axes>"
      ]
     },
     "metadata": {
      "needs_background": "light"
     },
     "output_type": "display_data"
    },
    {
     "data": {
      "image/png": "[encoded data removed]",
      "text/plain": [
       "<Figure size 360x360 with 1 Axes>"
      ]
     },
     "metadata": {
      "needs_background": "light"
     },
     "output_type": "display_data"
    },
    {
     "data": {
      "image/png": "[encoded data removed]",
      "text/plain": [
       "<Figure size 360x360 with 1 Axes>"
      ]
     },
     "metadata": {
      "needs_background": "light"
     },
     "output_type": "display_data"
    },
    {
     "data": {
      "image/png": "[encoded data removed]",
      "text/plain": [
       "<Figure size 360x360 with 1 Axes>"
      ]
     },
     "metadata": {
      "needs_background": "light"
     },
     "output_type": "display_data"
    },
    {
     "data": {
      "image/png": "[encoded data removed]",
      "text/plain": [
       "<Figure size 360x360 with 1 Axes>"
      ]
     },
     "metadata": {
      "needs_background": "light"
     },
     "output_type": "display_data"
    },
    {
     "data": {
      "image/png": "[encoded data removed]",
      "text/plain": [
       "<Figure size 360x360 with 1 Axes>"
      ]
     },
     "metadata": {
      "needs_background": "light"
     },
     "output_type": "display_data"
    },
    {
     "data": {
      "image/png": "[encoded data removed]",
      "text/plain": [
       "<Figure size 360x360 with 1 Axes>"
      ]
     },
     "metadata": {
      "needs_background": "light"
     },
     "output_type": "display_data"
    },
    {
     "data": {
      "image/png": "[encoded data removed]",
      "text/plain": [
       "<Figure size 360x360 with 1 Axes>"
      ]
     },
     "metadata": {
      "needs_background": "light"
     },
     "output_type": "display_data"
    },
    {
     "data": {
      "image/png": "[encoded data removed]",
      "text/plain": [
       "<Figure size 360x360 with 1 Axes>"
      ]
     },
     "metadata": {
      "needs_background": "light"
     },
     "output_type": "display_data"
    },
    {
     "data": {
      "image/png": "[encoded data removed]",
      "text/plain": [
       "<Figure size 360x360 with 1 Axes>"
      ]
     },
     "metadata": {
      "needs_background": "light"
     },
     "output_type": "display_data"
    },
    {
     "data": {
      "image/png": "[encoded data removed]",
      "text/plain": [
       "<Figure size 360x360 with 1 Axes>"
      ]
     },
     "metadata": {
      "needs_background": "light"
     },
     "output_type": "display_data"
    },
    {
     "data": {
      "image/png": "[encoded data removed]",
      "text/plain": [
       "<Figure size 360x360 with 1 Axes>"
      ]
     },
     "metadata": {
      "needs_background": "light"
     },
     "output_type": "display_data"
    },
    {
     "data": {
      "image/png": "[encoded data removed]",
      "text/plain": [
       "<Figure size 360x360 with 1 Axes>"
      ]
     },
     "metadata": {
      "needs_background": "light"
     },
     "output_type": "display_data"
    },
    {
     "data": {
      "image/png": "[encoded data removed]",
      "text/plain": [
       "<Figure size 360x360 with 1 Axes>"
      ]
     },
     "metadata": {
      "needs_background": "light"
     },
     "output_type": "display_data"
    },
    {
     "data": {
      "image/png": "[encoded data removed]",
      "text/plain": [
       "<Figure size 360x360 with 1 Axes>"
      ]
     },
     "metadata": {
      "needs_background": "light"
     },
     "output_type": "display_data"
    }
   ],
   "source": [
    "hp.plot_continous(X_train_ptrans_df)"
   ]
  },
  {
   "cell_type": "code",
   "execution_count": 199,
   "metadata": {},
   "outputs": [],
   "source": [
    "X_train_min_max, file_min_max = hp.min_max(X_train_ptrans_df, \"min_max_scale\")"
   ]
  },
  {
   "cell_type": "code",
   "execution_count": 200,
   "metadata": {},
   "outputs": [
    {
     "data": {
      "text/html": [
       "<div>\n",
       "<style scoped>\n",
       "    .dataframe tbody tr th:only-of-type {\n",
       "        vertical-align: middle;\n",
       "    }\n",
       "\n",
       "    .dataframe tbody tr th {\n",
       "        vertical-align: top;\n",
       "    }\n",
       "\n",
       "    .dataframe thead th {\n",
       "        text-align: right;\n",
       "    }\n",
       "</style>\n",
       "<table border=\"1\" class=\"dataframe\">\n",
       "  <thead>\n",
       "    <tr style=\"text-align: right;\">\n",
       "      <th></th>\n",
       "      <th>SEX_F</th>\n",
       "      <th>STEROID_2.0</th>\n",
       "      <th>ANTIVIRALS_1</th>\n",
       "      <th>FATIGUE_2</th>\n",
       "      <th>MALAISE_2</th>\n",
       "      <th>ANOREXIA_1</th>\n",
       "      <th>LIVER BIG_1.0</th>\n",
       "      <th>LIVER FIRM_2.0</th>\n",
       "      <th>SPLEEN PALPABLE_1.0</th>\n",
       "      <th>SPIDERS_2.0</th>\n",
       "      <th>ASCITES_2.0</th>\n",
       "      <th>VARICES_2.0</th>\n",
       "      <th>HISTOLOGY_1</th>\n",
       "      <th>AGE</th>\n",
       "      <th>BILIRUBIN</th>\n",
       "      <th>ALK PHOSPHATE</th>\n",
       "      <th>SGOT</th>\n",
       "      <th>ALBUMIN</th>\n",
       "    </tr>\n",
       "  </thead>\n",
       "  <tbody>\n",
       "    <tr>\n",
       "      <th>0</th>\n",
       "      <td>0.0</td>\n",
       "      <td>1.0</td>\n",
       "      <td>0.0</td>\n",
       "      <td>1.0</td>\n",
       "      <td>1.0</td>\n",
       "      <td>0.0</td>\n",
       "      <td>0.0</td>\n",
       "      <td>0.0</td>\n",
       "      <td>1.0</td>\n",
       "      <td>0.0</td>\n",
       "      <td>1.0</td>\n",
       "      <td>1.0</td>\n",
       "      <td>0.0</td>\n",
       "      <td>0.686258</td>\n",
       "      <td>0.530349</td>\n",
       "      <td>0.469369</td>\n",
       "      <td>0.628437</td>\n",
       "      <td>0.442965</td>\n",
       "    </tr>\n",
       "    <tr>\n",
       "      <th>1</th>\n",
       "      <td>0.0</td>\n",
       "      <td>0.0</td>\n",
       "      <td>0.0</td>\n",
       "      <td>1.0</td>\n",
       "      <td>1.0</td>\n",
       "      <td>0.0</td>\n",
       "      <td>0.0</td>\n",
       "      <td>1.0</td>\n",
       "      <td>0.0</td>\n",
       "      <td>1.0</td>\n",
       "      <td>1.0</td>\n",
       "      <td>1.0</td>\n",
       "      <td>0.0</td>\n",
       "      <td>0.441955</td>\n",
       "      <td>0.577196</td>\n",
       "      <td>0.717830</td>\n",
       "      <td>0.628437</td>\n",
       "      <td>0.234658</td>\n",
       "    </tr>\n",
       "    <tr>\n",
       "      <th>2</th>\n",
       "      <td>0.0</td>\n",
       "      <td>1.0</td>\n",
       "      <td>0.0</td>\n",
       "      <td>1.0</td>\n",
       "      <td>1.0</td>\n",
       "      <td>0.0</td>\n",
       "      <td>0.0</td>\n",
       "      <td>1.0</td>\n",
       "      <td>0.0</td>\n",
       "      <td>1.0</td>\n",
       "      <td>1.0</td>\n",
       "      <td>1.0</td>\n",
       "      <td>1.0</td>\n",
       "      <td>0.293448</td>\n",
       "      <td>0.411688</td>\n",
       "      <td>0.488538</td>\n",
       "      <td>0.395290</td>\n",
       "      <td>0.513547</td>\n",
       "    </tr>\n",
       "    <tr>\n",
       "      <th>3</th>\n",
       "      <td>0.0</td>\n",
       "      <td>0.0</td>\n",
       "      <td>0.0</td>\n",
       "      <td>0.0</td>\n",
       "      <td>0.0</td>\n",
       "      <td>0.0</td>\n",
       "      <td>0.0</td>\n",
       "      <td>1.0</td>\n",
       "      <td>1.0</td>\n",
       "      <td>1.0</td>\n",
       "      <td>0.0</td>\n",
       "      <td>1.0</td>\n",
       "      <td>0.0</td>\n",
       "      <td>0.758550</td>\n",
       "      <td>0.944138</td>\n",
       "      <td>0.639547</td>\n",
       "      <td>0.280977</td>\n",
       "      <td>0.288283</td>\n",
       "    </tr>\n",
       "    <tr>\n",
       "      <th>4</th>\n",
       "      <td>0.0</td>\n",
       "      <td>1.0</td>\n",
       "      <td>1.0</td>\n",
       "      <td>1.0</td>\n",
       "      <td>1.0</td>\n",
       "      <td>0.0</td>\n",
       "      <td>0.0</td>\n",
       "      <td>1.0</td>\n",
       "      <td>0.0</td>\n",
       "      <td>1.0</td>\n",
       "      <td>1.0</td>\n",
       "      <td>1.0</td>\n",
       "      <td>1.0</td>\n",
       "      <td>0.358504</td>\n",
       "      <td>0.335750</td>\n",
       "      <td>0.157398</td>\n",
       "      <td>0.506482</td>\n",
       "      <td>0.442965</td>\n",
       "    </tr>\n",
       "    <tr>\n",
       "      <th>...</th>\n",
       "      <td>...</td>\n",
       "      <td>...</td>\n",
       "      <td>...</td>\n",
       "      <td>...</td>\n",
       "      <td>...</td>\n",
       "      <td>...</td>\n",
       "      <td>...</td>\n",
       "      <td>...</td>\n",
       "      <td>...</td>\n",
       "      <td>...</td>\n",
       "      <td>...</td>\n",
       "      <td>...</td>\n",
       "      <td>...</td>\n",
       "      <td>...</td>\n",
       "      <td>...</td>\n",
       "      <td>...</td>\n",
       "      <td>...</td>\n",
       "      <td>...</td>\n",
       "    </tr>\n",
       "    <tr>\n",
       "      <th>76</th>\n",
       "      <td>0.0</td>\n",
       "      <td>0.0</td>\n",
       "      <td>0.0</td>\n",
       "      <td>1.0</td>\n",
       "      <td>1.0</td>\n",
       "      <td>0.0</td>\n",
       "      <td>0.0</td>\n",
       "      <td>0.0</td>\n",
       "      <td>0.0</td>\n",
       "      <td>1.0</td>\n",
       "      <td>1.0</td>\n",
       "      <td>1.0</td>\n",
       "      <td>0.0</td>\n",
       "      <td>0.475942</td>\n",
       "      <td>0.000000</td>\n",
       "      <td>0.975806</td>\n",
       "      <td>0.485899</td>\n",
       "      <td>0.377447</td>\n",
       "    </tr>\n",
       "    <tr>\n",
       "      <th>77</th>\n",
       "      <td>0.0</td>\n",
       "      <td>1.0</td>\n",
       "      <td>0.0</td>\n",
       "      <td>0.0</td>\n",
       "      <td>0.0</td>\n",
       "      <td>1.0</td>\n",
       "      <td>0.0</td>\n",
       "      <td>1.0</td>\n",
       "      <td>1.0</td>\n",
       "      <td>1.0</td>\n",
       "      <td>1.0</td>\n",
       "      <td>1.0</td>\n",
       "      <td>1.0</td>\n",
       "      <td>0.230096</td>\n",
       "      <td>0.652964</td>\n",
       "      <td>0.870241</td>\n",
       "      <td>0.837004</td>\n",
       "      <td>0.477612</td>\n",
       "    </tr>\n",
       "    <tr>\n",
       "      <th>78</th>\n",
       "      <td>0.0</td>\n",
       "      <td>1.0</td>\n",
       "      <td>0.0</td>\n",
       "      <td>1.0</td>\n",
       "      <td>1.0</td>\n",
       "      <td>0.0</td>\n",
       "      <td>0.0</td>\n",
       "      <td>1.0</td>\n",
       "      <td>0.0</td>\n",
       "      <td>1.0</td>\n",
       "      <td>1.0</td>\n",
       "      <td>1.0</td>\n",
       "      <td>0.0</td>\n",
       "      <td>0.475942</td>\n",
       "      <td>0.335750</td>\n",
       "      <td>0.230335</td>\n",
       "      <td>0.431453</td>\n",
       "      <td>0.477612</td>\n",
       "    </tr>\n",
       "    <tr>\n",
       "      <th>79</th>\n",
       "      <td>0.0</td>\n",
       "      <td>1.0</td>\n",
       "      <td>0.0</td>\n",
       "      <td>1.0</td>\n",
       "      <td>1.0</td>\n",
       "      <td>0.0</td>\n",
       "      <td>0.0</td>\n",
       "      <td>0.0</td>\n",
       "      <td>0.0</td>\n",
       "      <td>0.0</td>\n",
       "      <td>1.0</td>\n",
       "      <td>0.0</td>\n",
       "      <td>0.0</td>\n",
       "      <td>0.475942</td>\n",
       "      <td>0.735098</td>\n",
       "      <td>0.678506</td>\n",
       "      <td>0.817494</td>\n",
       "      <td>0.288283</td>\n",
       "    </tr>\n",
       "    <tr>\n",
       "      <th>80</th>\n",
       "      <td>0.0</td>\n",
       "      <td>0.0</td>\n",
       "      <td>0.0</td>\n",
       "      <td>0.0</td>\n",
       "      <td>0.0</td>\n",
       "      <td>0.0</td>\n",
       "      <td>1.0</td>\n",
       "      <td>0.0</td>\n",
       "      <td>0.0</td>\n",
       "      <td>0.0</td>\n",
       "      <td>1.0</td>\n",
       "      <td>1.0</td>\n",
       "      <td>0.0</td>\n",
       "      <td>0.579798</td>\n",
       "      <td>0.903686</td>\n",
       "      <td>0.614473</td>\n",
       "      <td>0.581784</td>\n",
       "      <td>0.288283</td>\n",
       "    </tr>\n",
       "  </tbody>\n",
       "</table>\n",
       "<p>81 rows × 18 columns</p>\n",
       "</div>"
      ],
      "text/plain": [
       "    SEX_F  STEROID_2.0  ANTIVIRALS_1  FATIGUE_2  MALAISE_2  ANOREXIA_1  \\\n",
       "0     0.0          1.0           0.0        1.0        1.0         0.0   \n",
       "1     0.0          0.0           0.0        1.0        1.0         0.0   \n",
       "2     0.0          1.0           0.0        1.0        1.0         0.0   \n",
       "3     0.0          0.0           0.0        0.0        0.0         0.0   \n",
       "4     0.0          1.0           1.0        1.0        1.0         0.0   \n",
       "..    ...          ...           ...        ...        ...         ...   \n",
       "76    0.0          0.0           0.0        1.0        1.0         0.0   \n",
       "77    0.0          1.0           0.0        0.0        0.0         1.0   \n",
       "78    0.0          1.0           0.0        1.0        1.0         0.0   \n",
       "79    0.0          1.0           0.0        1.0        1.0         0.0   \n",
       "80    0.0          0.0           0.0        0.0        0.0         0.0   \n",
       "\n",
       "    LIVER BIG_1.0  LIVER FIRM_2.0  SPLEEN PALPABLE_1.0  SPIDERS_2.0  \\\n",
       "0             0.0             0.0                  1.0          0.0   \n",
       "1             0.0             1.0                  0.0          1.0   \n",
       "2             0.0             1.0                  0.0          1.0   \n",
       "3             0.0             1.0                  1.0          1.0   \n",
       "4             0.0             1.0                  0.0          1.0   \n",
       "..            ...             ...                  ...          ...   \n",
       "76            0.0             0.0                  0.0          1.0   \n",
       "77            0.0             1.0                  1.0          1.0   \n",
       "78            0.0             1.0                  0.0          1.0   \n",
       "79            0.0             0.0                  0.0          0.0   \n",
       "80            1.0             0.0                  0.0          0.0   \n",
       "\n",
       "    ASCITES_2.0  VARICES_2.0  HISTOLOGY_1       AGE  BILIRUBIN  ALK PHOSPHATE  \\\n",
       "0           1.0          1.0          0.0  0.686258   0.530349       0.469369   \n",
       "1           1.0          1.0          0.0  0.441955   0.577196       0.717830   \n",
       "2           1.0          1.0          1.0  0.293448   0.411688       0.488538   \n",
       "3           0.0          1.0          0.0  0.758550   0.944138       0.639547   \n",
       "4           1.0          1.0          1.0  0.358504   0.335750       0.157398   \n",
       "..          ...          ...          ...       ...        ...            ...   \n",
       "76          1.0          1.0          0.0  0.475942   0.000000       0.975806   \n",
       "77          1.0          1.0          1.0  0.230096   0.652964       0.870241   \n",
       "78          1.0          1.0          0.0  0.475942   0.335750       0.230335   \n",
       "79          1.0          0.0          0.0  0.475942   0.735098       0.678506   \n",
       "80          1.0          1.0          0.0  0.579798   0.903686       0.614473   \n",
       "\n",
       "        SGOT   ALBUMIN  \n",
       "0   0.628437  0.442965  \n",
       "1   0.628437  0.234658  \n",
       "2   0.395290  0.513547  \n",
       "3   0.280977  0.288283  \n",
       "4   0.506482  0.442965  \n",
       "..       ...       ...  \n",
       "76  0.485899  0.377447  \n",
       "77  0.837004  0.477612  \n",
       "78  0.431453  0.477612  \n",
       "79  0.817494  0.288283  \n",
       "80  0.581784  0.288283  \n",
       "\n",
       "[81 rows x 18 columns]"
      ]
     },
     "execution_count": 200,
     "metadata": {},
     "output_type": "execute_result"
    }
   ],
   "source": [
    "X_train_min_max"
   ]
  },
  {
   "cell_type": "code",
   "execution_count": 202,
   "metadata": {},
   "outputs": [],
   "source": [
    "X_test_min_max = hp.min_max(X_test_ptrans_df, file_min_max, fit=False)"
   ]
  },
  {
   "cell_type": "code",
   "execution_count": 203,
   "metadata": {},
   "outputs": [],
   "source": [
    "X_validate_min_max = hp.min_max(X_validate_ptrans_df, file_min_max, fit=False)"
   ]
  },
  {
   "cell_type": "code",
   "execution_count": null,
   "metadata": {},
   "outputs": [],
   "source": [
    "# X_train_min_max\n",
    "# X_test_min_max\n",
    "# X_validate_min_max"
   ]
  },
  {
   "cell_type": "code",
   "execution_count": 275,
   "metadata": {},
   "outputs": [],
   "source": [
    "X_train_min_max.to_csv(\"data/X_train_min_max.csv\", index=False)\n",
    "X_test_min_max.to_csv(\"data/X_test_min_max.csv\", index = False)\n",
    "X_validate_min_max.to_csv(\"data/X_validate_min_max.csv\", index = False)"
   ]
  },
  {
   "cell_type": "code",
   "execution_count": null,
   "metadata": {},
   "outputs": [],
   "source": [
    "# y_train\n",
    "# y_test"
   ]
  },
  {
   "cell_type": "code",
   "execution_count": 276,
   "metadata": {},
   "outputs": [],
   "source": [
    "y_train.to_csv(\"data/y_train.csv\", index=False)\n",
    "y_test.to_csv(\"data/y_train.csv\", index=False)"
   ]
  },
  {
   "cell_type": "code",
   "execution_count": 218,
   "metadata": {},
   "outputs": [
    {
     "name": "stderr",
     "output_type": "stream",
     "text": [
      "C:\\ProgramData\\Anaconda3\\lib\\site-packages\\sklearn\\utils\\validation.py:993: DataConversionWarning: A column-vector y was passed when a 1d array was expected. Please change the shape of y to (n_samples, ), for example using ravel().\n",
      "  y = column_or_1d(y, warn=True)\n"
     ]
    },
    {
     "name": "stdout",
     "output_type": "stream",
     "text": [
      "-----------------------------\n",
      "-----Logistic Regression-----\n",
      "----------Train Set----------\n",
      "-----------------------------\n",
      "The accuracy in the TRAIN set is: 0.94\n",
      "The precision in the TRAIN set is: 0.91\n",
      "The recall in the TRAIN set is: 0.71\n",
      "The F1 in the TRAIN set is: 0.80\n",
      "The Cohen-Kappa-Score in the TRAIN set is: 0.76\n",
      "-----------------------------\n",
      "-----Logistic Regression-----\n",
      "-----------Test Set----------\n",
      "-----------------------------\n",
      "The accuracy in the TEST set is: 0.76\n",
      "The precision in the TEST set is: 0.75\n",
      "The recall in the TEST set is: 0.43\n",
      "The F1 in the TEST set is: 0.55\n",
      "The Cohen-Kappa-Score in the TEST set is: 0.40\n",
      "-----------------------------\n",
      "Filename Linear: log_reg_logistic.sav\n"
     ]
    },
    {
     "data": {
      "image/png": "[encoded data removed]",
      "text/plain": [
       "<Figure size 432x288 with 2 Axes>"
      ]
     },
     "metadata": {
      "needs_background": "light"
     },
     "output_type": "display_data"
    }
   ],
   "source": [
    "file_log_reg = hp.logistic_regression(X_test_min_max, y_test, \"log_reg\", [\"LIVE\", \"DIE\"], X_train = X_train_min_max, y_train = y_train)"
   ]
  },
  {
   "cell_type": "code",
   "execution_count": 208,
   "metadata": {},
   "outputs": [],
   "source": [
    "X_train_SMOTE, y_train_SMOTE = hp.smote(X_train_min_max, y_train)"
   ]
  },
  {
   "cell_type": "code",
   "execution_count": 217,
   "metadata": {},
   "outputs": [
    {
     "name": "stderr",
     "output_type": "stream",
     "text": [
      "C:\\ProgramData\\Anaconda3\\lib\\site-packages\\sklearn\\utils\\validation.py:993: DataConversionWarning: A column-vector y was passed when a 1d array was expected. Please change the shape of y to (n_samples, ), for example using ravel().\n",
      "  y = column_or_1d(y, warn=True)\n"
     ]
    },
    {
     "name": "stdout",
     "output_type": "stream",
     "text": [
      "-----------------------------\n",
      "-----Logistic Regression-----\n",
      "----------Train Set----------\n",
      "-----------------------------\n",
      "The accuracy in the TRAIN set is: 0.90\n",
      "The precision in the TRAIN set is: 0.90\n",
      "The recall in the TRAIN set is: 0.91\n",
      "The F1 in the TRAIN set is: 0.90\n",
      "The Cohen-Kappa-Score in the TRAIN set is: 0.81\n",
      "-----------------------------\n",
      "-----Logistic Regression-----\n",
      "-----------Test Set----------\n",
      "-----------------------------\n",
      "The accuracy in the TEST set is: 0.81\n",
      "The precision in the TEST set is: 0.71\n",
      "The recall in the TEST set is: 0.71\n",
      "The F1 in the TEST set is: 0.71\n",
      "The Cohen-Kappa-Score in the TEST set is: 0.57\n",
      "-----------------------------\n",
      "Filename Linear: log_reg_smote_logistic.sav\n"
     ]
    },
    {
     "data": {
      "image/png": "[encoded data removed]",
      "text/plain": [
       "<Figure size 432x288 with 2 Axes>"
      ]
     },
     "metadata": {
      "needs_background": "light"
     },
     "output_type": "display_data"
    }
   ],
   "source": [
    "file_log_reg_smote = hp.logistic_regression(X_test_min_max, y_test, \"log_reg_smote\", [\"LIVE\", \"DIE\"], X_train = X_train_SMOTE, y_train = y_train_SMOTE)"
   ]
  },
  {
   "cell_type": "code",
   "execution_count": 214,
   "metadata": {},
   "outputs": [],
   "source": [
    "test = pd.DataFrame(y_train_SMOTE)"
   ]
  },
  {
   "cell_type": "code",
   "execution_count": 215,
   "metadata": {},
   "outputs": [
    {
     "data": {
      "text/plain": [
       "DIE     67\n",
       "LIVE    67\n",
       "Name: Class, dtype: int64"
      ]
     },
     "execution_count": 215,
     "metadata": {},
     "output_type": "execute_result"
    }
   ],
   "source": [
    "test[\"Class\"].value_counts()"
   ]
  },
  {
   "cell_type": "code",
   "execution_count": 220,
   "metadata": {},
   "outputs": [],
   "source": [
    "from imblearn.over_sampling import RandomOverSampler\n",
    "\n",
    "ros = RandomOverSampler(random_state=42)\n",
    "X_train_over, y_train_over = ros.fit_resample(X_train_min_max, y_train)\n",
    "#display(pd.concat([X_train_over,y_train_over],axis=1).head())\n"
   ]
  },
  {
   "cell_type": "code",
   "execution_count": 222,
   "metadata": {},
   "outputs": [
    {
     "name": "stderr",
     "output_type": "stream",
     "text": [
      "C:\\ProgramData\\Anaconda3\\lib\\site-packages\\sklearn\\utils\\validation.py:993: DataConversionWarning: A column-vector y was passed when a 1d array was expected. Please change the shape of y to (n_samples, ), for example using ravel().\n",
      "  y = column_or_1d(y, warn=True)\n"
     ]
    },
    {
     "name": "stdout",
     "output_type": "stream",
     "text": [
      "-----------------------------\n",
      "-----Logistic Regression-----\n",
      "----------Train Set----------\n",
      "-----------------------------\n",
      "The accuracy in the TRAIN set is: 0.87\n",
      "The precision in the TRAIN set is: 0.88\n",
      "The recall in the TRAIN set is: 0.87\n",
      "The F1 in the TRAIN set is: 0.87\n",
      "The Cohen-Kappa-Score in the TRAIN set is: 0.75\n",
      "-----------------------------\n",
      "-----Logistic Regression-----\n",
      "-----------Test Set----------\n",
      "-----------------------------\n",
      "The accuracy in the TEST set is: 0.81\n",
      "The precision in the TEST set is: 0.71\n",
      "The recall in the TEST set is: 0.71\n",
      "The F1 in the TEST set is: 0.71\n",
      "The Cohen-Kappa-Score in the TEST set is: 0.57\n",
      "-----------------------------\n",
      "Filename Linear: log_reg_oversamp_logistic.sav\n"
     ]
    },
    {
     "data": {
      "image/png": "[encoded data removed]",
      "text/plain": [
       "<Figure size 432x288 with 2 Axes>"
      ]
     },
     "metadata": {
      "needs_background": "light"
     },
     "output_type": "display_data"
    }
   ],
   "source": [
    "file_log_reg_oversamp = hp.logistic_regression(X_test_min_max, y_test, \"log_reg_oversamp\", [\"LIVE\", \"DIE\"], X_train = X_train_over, y_train = y_train_over)"
   ]
  },
  {
   "cell_type": "code",
   "execution_count": null,
   "metadata": {},
   "outputs": [],
   "source": [
    "# decision tree"
   ]
  },
  {
   "cell_type": "code",
   "execution_count": null,
   "metadata": {},
   "outputs": [],
   "source": [
    "ht.decision_tree(X_test_min_max, y_test, \"tree\", [\"LIVE\", \"DIE\"], X_train = X_train_min_max, y_train = y_train)"
   ]
  },
  {
   "cell_type": "code",
   "execution_count": 253,
   "metadata": {},
   "outputs": [],
   "source": [
    "from sklearn.tree import DecisionTreeClassifier\n",
    "\n",
    "regr = DecisionTreeClassifier(max_depth=grid['max_depth'],\n",
    "                             criterion = grid['criterion'],\n",
    "                             min_samples_split=grid['min_samples_split'],\n",
    "                             min_samples_leaf = grid['min_samples_leaf'],\n",
    "                             max_features = grid['max_features'])\n",
    "model = regr.fit(X_train_min_max, y_train)\n",
    "y_pred_train = model.predict(X_train_min_max)\n",
    "y_pred_test = model.predict(X_test_min_max)\n",
    "filename = \"min_max\"\n",
    "filename_model = filename + \"_tree.sav\"\n",
    "pickle.dump(model, open(\"models/\"+filename_model, 'wb'))"
   ]
  },
  {
   "cell_type": "code",
   "execution_count": 254,
   "metadata": {},
   "outputs": [
    {
     "name": "stdout",
     "output_type": "stream",
     "text": [
      "The Kappa in the TRAIN set is: 0.75\n",
      "The Kappa in the TEST set is: 0.54\n"
     ]
    }
   ],
   "source": [
    "print(\"The Kappa in the TRAIN set is: {:.2f}\".format(cohen_kappa_score(y_train,y_pred_train)))\n",
    "print(\"The Kappa in the TEST set is: {:.2f}\".format(cohen_kappa_score(y_test,y_pred_test)))\n"
   ]
  },
  {
   "cell_type": "code",
   "execution_count": 263,
   "metadata": {},
   "outputs": [],
   "source": [
    "regr_over = DecisionTreeClassifier(max_depth=grid_over['max_depth'],\n",
    "                             criterion = grid_over['criterion'],\n",
    "                             min_samples_split=grid_over['min_samples_split'],\n",
    "                             min_samples_leaf = grid_over['min_samples_leaf'],\n",
    "                             max_features = grid_over['max_features'])\n",
    "model_over = regr_over.fit(X_train_over, y_train_over)\n",
    "y_pred_train = model_over.predict(X_train_over)\n",
    "y_pred_test = model_over.predict(X_test_min_max)\n",
    "filename = \"oversamp\"\n",
    "filename_model = filename + \"_tree.sav\"\n",
    "pickle.dump(model_over, open(\"models/\"+filename_model, 'wb'))"
   ]
  },
  {
   "cell_type": "code",
   "execution_count": 265,
   "metadata": {},
   "outputs": [
    {
     "name": "stdout",
     "output_type": "stream",
     "text": [
      "The Kappa in the TRAIN set is: 0.97\n",
      "The Kappa in the TEST set is: 0.79\n"
     ]
    }
   ],
   "source": [
    "print(\"The Kappa in the TRAIN set is: {:.2f}\".format(cohen_kappa_score(y_train_over,y_pred_train)))\n",
    "print(\"The Kappa in the TEST set is: {:.2f}\".format(cohen_kappa_score(y_test,y_pred_test)))"
   ]
  },
  {
   "cell_type": "code",
   "execution_count": 310,
   "metadata": {},
   "outputs": [],
   "source": [
    "regr_smote = DecisionTreeClassifier(max_depth=grid_smote['max_depth'],\n",
    "                             criterion = grid_smote['criterion'],\n",
    "                             min_samples_split=grid_smote['min_samples_split'],\n",
    "                             min_samples_leaf = grid_smote['min_samples_leaf'],\n",
    "                             max_features = grid_smote['max_features'])\n",
    "model_smote = regr_smote.fit(X_train_SMOTE, y_train_SMOTE)\n",
    "y_pred_train = model_smote.predict(X_train_SMOTE)\n",
    "y_pred_test = model_smote.predict(X_test_min_max)\n",
    "filename = \"SMOTE\"\n",
    "filename_model = filename + \"_tree.sav\"\n",
    "pickle.dump(model_smote, open(\"models/\"+filename_model, 'wb'))"
   ]
  },
  {
   "cell_type": "code",
   "execution_count": 311,
   "metadata": {},
   "outputs": [
    {
     "name": "stdout",
     "output_type": "stream",
     "text": [
      "The Kappa in the TRAIN set is: 0.87\n",
      "The Kappa in the TEST set is: 0.57\n"
     ]
    }
   ],
   "source": [
    "print(\"The Kappa in the TRAIN set is: {:.2f}\".format(cohen_kappa_score(y_train_over,y_pred_train)))\n",
    "print(\"The Kappa in the TEST set is: {:.2f}\".format(cohen_kappa_score(y_test,y_pred_test)))"
   ]
  },
  {
   "cell_type": "code",
   "execution_count": 251,
   "metadata": {},
   "outputs": [],
   "source": [
    "grid = {'max_depth': 5,\n",
    "               'criterion': 'gini',\n",
    "               'min_samples_split': 7,\n",
    "               'min_samples_leaf': 4,\n",
    "               'max_features': 3}"
   ]
  },
  {
   "cell_type": "code",
   "execution_count": 257,
   "metadata": {},
   "outputs": [],
   "source": [
    "grid_over = {'max_depth': 7,\n",
    "               'criterion': 'gini',\n",
    "               'min_samples_split': 5,\n",
    "               'min_samples_leaf': 2,\n",
    "               'max_features': 7}"
   ]
  },
  {
   "cell_type": "code",
   "execution_count": 309,
   "metadata": {},
   "outputs": [],
   "source": [
    "grid_smote = {'max_depth': 6,\n",
    "               'criterion': 'gini',\n",
    "               'min_samples_split': 8,\n",
    "               'min_samples_leaf': 4,\n",
    "               'max_features': 8}"
   ]
  },
  {
   "cell_type": "code",
   "execution_count": 7,
   "metadata": {},
   "outputs": [],
   "source": [
    "# grid search"
   ]
  },
  {
   "cell_type": "code",
   "execution_count": 245,
   "metadata": {},
   "outputs": [],
   "source": [
    "max_depth_choices= [3,4,5,6,7,8,9,10,None] \n",
    "criterion_choices = ['gini','entropy']\n",
    "min_samples_split_choices = [2,3,4,5,6,7,8,9,10] \n",
    "min_samples_leaf_choices = [2,3,4,5,6,7,8,9,10]   \n",
    "max_feat = [2,3,4,5,6,7,8,9]"
   ]
  },
  {
   "cell_type": "code",
   "execution_count": 246,
   "metadata": {},
   "outputs": [],
   "source": [
    "grid_search = {'max_depth': max_depth_choices,\n",
    "        'criterion': criterion_choices,\n",
    "        'min_samples_split': min_samples_split_choices,\n",
    "        'min_samples_leaf': min_samples_leaf_choices,\n",
    "        'max_features': max_feat\n",
    "       }"
   ]
  },
  {
   "cell_type": "code",
   "execution_count": 249,
   "metadata": {},
   "outputs": [
    {
     "name": "stdout",
     "output_type": "stream",
     "text": [
      "{'criterion': 'gini', 'max_depth': 5, 'max_features': 3, 'min_samples_leaf': 4, 'min_samples_split': 7}\n",
      "The best R2 for the best hyperparameters is 0.91\n"
     ]
    }
   ],
   "source": [
    "bes_tree_args = ht.grid_search(X_train_min_max, y_train, grid_search, cv = 5, model = \"classification\")"
   ]
  },
  {
   "cell_type": "code",
   "execution_count": 255,
   "metadata": {},
   "outputs": [
    {
     "name": "stdout",
     "output_type": "stream",
     "text": [
      "{'criterion': 'gini', 'max_depth': 7, 'max_features': 7, 'min_samples_leaf': 2, 'min_samples_split': 5}\n",
      "The best R2 for the best hyperparameters is 0.98\n"
     ]
    }
   ],
   "source": [
    "best_tree_args_over = ht.grid_search(X_train_over, y_train_over, grid_search, cv = 5, model = \"classification\")"
   ]
  },
  {
   "cell_type": "code",
   "execution_count": 308,
   "metadata": {},
   "outputs": [
    {
     "name": "stdout",
     "output_type": "stream",
     "text": [
      "{'criterion': 'gini', 'max_depth': 6, 'max_features': 8, 'min_samples_leaf': 4, 'min_samples_split': 8}\n",
      "The best R2 for the best hyperparameters is 0.95\n"
     ]
    }
   ],
   "source": [
    "best_tree_args_SMOTE = ht.grid_search(X_train_SMOTE, y_train_SMOTE, grid_search, cv = 5, model = \"classification\")"
   ]
  },
  {
   "cell_type": "code",
   "execution_count": 10,
   "metadata": {},
   "outputs": [],
   "source": [
    "# random search"
   ]
  },
  {
   "cell_type": "code",
   "execution_count": 11,
   "metadata": {},
   "outputs": [],
   "source": [
    "max_depth_choices= [3,4,5,6,7,8,9,10,None] # A list of the possible values of max_depth to try at random\n",
    "criterion_choices =  ['squared_error','absolute_error'] # A list of the possible values optimization metrics\n",
    "min_samples_split_choices = [2,3,4,5,6,7,8,9,10] # A list of the possible values of min_samples_split to try\n",
    "min_samples_leaf_choices = [2,3,4,5,6,7,8,9,10] # A list of the possible values of min_samples_leaf to try \n",
    "max_features_choices = [2,3,4,5,6] # A list of max_features to use in the Decission tree\n"
   ]
  },
  {
   "cell_type": "code",
   "execution_count": 12,
   "metadata": {},
   "outputs": [],
   "source": [
    "random_grid_2 = {'max_depth': max_depth_choices,\n",
    "                   'criterion': criterion_choices,\n",
    "                   'min_samples_split': min_samples_split_choices,\n",
    "                   'min_samples_leaf': min_samples_leaf_choices,\n",
    "                   'max_features': max_features_choices}"
   ]
  },
  {
   "cell_type": "code",
   "execution_count": 13,
   "metadata": {},
   "outputs": [],
   "source": [
    "# forest grid"
   ]
  },
  {
   "cell_type": "code",
   "execution_count": 266,
   "metadata": {},
   "outputs": [],
   "source": [
    "max_depth_choices=[3,4,5,6,7,8,9,10,None]\n",
    "min_sample_split=[10, 20, 30]\n",
    "min_sample_leaf=[10, 20, 30]\n",
    "max_samples=[0.4, 0.8, 1.2]\n",
    "random_state=[24, 42, 56]"
   ]
  },
  {
   "cell_type": "code",
   "execution_count": 267,
   "metadata": {},
   "outputs": [],
   "source": [
    "random_forest = {'max_depth': max_depth_choices,    \n",
    "                'min_samples_split': min_sample_split,\n",
    "                'min_samples_leaf': min_sample_leaf,\n",
    "                'max_samples': max_samples,\n",
    "                'random_state': random_state\n",
    "               }"
   ]
  },
  {
   "cell_type": "code",
   "execution_count": 273,
   "metadata": {},
   "outputs": [
    {
     "name": "stderr",
     "output_type": "stream",
     "text": [
      "C:\\ProgramData\\Anaconda3\\lib\\site-packages\\sklearn\\model_selection\\_validation.py:372: FitFailedWarning: \n",
      "30 fits failed out of a total of 125.\n",
      "The score on these train-test partitions for these parameters will be set to nan.\n",
      "If these failures are not expected, you can try to debug them by setting error_score='raise'.\n",
      "\n",
      "Below are more details about the failures:\n",
      "--------------------------------------------------------------------------------\n",
      "30 fits failed with the following error:\n",
      "Traceback (most recent call last):\n",
      "  File \"C:\\ProgramData\\Anaconda3\\lib\\site-packages\\sklearn\\model_selection\\_validation.py\", line 680, in _fit_and_score\n",
      "    estimator.fit(X_train, y_train, **fit_params)\n",
      "  File \"C:\\ProgramData\\Anaconda3\\lib\\site-packages\\sklearn\\ensemble\\_forest.py\", line 385, in fit\n",
      "    n_samples_bootstrap = _get_n_samples_bootstrap(\n",
      "  File \"C:\\ProgramData\\Anaconda3\\lib\\site-packages\\sklearn\\ensemble\\_forest.py\", line 117, in _get_n_samples_bootstrap\n",
      "    raise ValueError(msg.format(max_samples))\n",
      "ValueError: `max_samples` must be in range (0.0, 1.0] but got value 1.2\n",
      "\n",
      "  warnings.warn(some_fits_failed_message, FitFailedWarning)\n",
      "C:\\ProgramData\\Anaconda3\\lib\\site-packages\\sklearn\\model_selection\\_search.py:969: UserWarning: One or more of the test scores are non-finite: [       nan 0.8039886  0.5        0.77549858 0.48518519        nan\n",
      " 0.76695157        nan 0.81937322 0.87207977        nan        nan\n",
      " 0.76752137 0.48518519 0.47749288 0.48518519 0.5        0.81139601\n",
      " 0.81880342 0.8048433  0.82706553 0.76752137        nan 0.76752137\n",
      " 0.81937322]\n",
      "  warnings.warn(\n",
      "C:\\ProgramData\\Anaconda3\\lib\\site-packages\\sklearn\\model_selection\\_search.py:926: DataConversionWarning: A column-vector y was passed when a 1d array was expected. Please change the shape of y to (n_samples,), for example using ravel().\n",
      "  self.best_estimator_.fit(X, y, **fit_params)\n"
     ]
    },
    {
     "name": "stdout",
     "output_type": "stream",
     "text": [
      "{'random_state': 24, 'min_samples_split': 10, 'min_samples_leaf': 10, 'max_samples': 0.8, 'max_depth': 9}\n",
      "The best R2 for the best hyperparameters is 0.87\n"
     ]
    }
   ],
   "source": [
    "model = RandomForestClassifier()\n",
    "random_search = RandomizedSearchCV(estimator = model, param_distributions = random_forest, n_iter=25, cv = 5, n_jobs = 2)\n",
    "random_search.fit(X_train_over,y_train_over)\n",
    "print(random_search.best_params_)\n",
    "print(\"The best R2 for the best hyperparameters is {:.2f}\".format(random_search.best_score_))"
   ]
  },
  {
   "cell_type": "code",
   "execution_count": 281,
   "metadata": {},
   "outputs": [
    {
     "name": "stderr",
     "output_type": "stream",
     "text": [
      "C:\\Users\\micle\\Ironhack_DAFTFEB2022\\GitHub\\IronHackathon\\hackyou\\hackforest.py:174: DataConversionWarning: A column-vector y was passed when a 1d array was expected. Please change the shape of y to (n_samples,), for example using ravel().\n",
      "  clf.fit(X_train, y_train)\n"
     ]
    },
    {
     "name": "stdout",
     "output_type": "stream",
     "text": [
      "The R2 for the Random Forest in the TRAIN set is 0.91\n",
      "The R2 for the Random Forest in the TEST  set is 0.86\n",
      "-----------------------------\n",
      "-----Logistic Regression-----\n",
      "----------Train Set----------\n",
      "-----------------------------\n",
      "The accuracy in the TRAIN set is: 0.91\n",
      "The precision in the TRAIN set is: 0.90\n",
      "The recall in the TRAIN set is: 0.93\n",
      "The F1 in the TRAIN set is: 0.91\n",
      "The Cohen-Kappa-Score in the TRAIN set is: 0.82\n",
      "-----------------------------\n",
      "-----Logistic Regression-----\n",
      "-----------Test Set----------\n",
      "-----------------------------\n",
      "The accuracy in the TEST set is: 0.86\n",
      "The precision in the TEST set is: 0.75\n",
      "The recall in the TEST set is: 0.86\n",
      "The F1 in the TEST set is: 0.80\n",
      "The Cohen-Kappa-Score in the TEST set is: 0.69\n",
      "-----------------------------\n",
      "Filename Linear: forest_forest.sav\n"
     ]
    },
    {
     "data": {
      "image/png": "[encoded data removed]",
      "text/plain": [
       "<Figure size 432x288 with 2 Axes>"
      ]
     },
     "metadata": {
      "needs_background": "light"
     },
     "output_type": "display_data"
    }
   ],
   "source": [
    "file_forest = ht.random_forest_class(X_test_min_max, y_test, forest_grid, \"forest\", [\"LIVE\", \"DIE\"], X_train = X_train_over, y_train = y_train_over)"
   ]
  },
  {
   "cell_type": "code",
   "execution_count": 278,
   "metadata": {},
   "outputs": [],
   "source": [
    "forest_grid = {'max_depth': 9,    \n",
    "                'min_samples_split': 10,\n",
    "                'min_samples_leaf': 10,\n",
    "                'max_samples': 0.8,\n",
    "                'random_state': 24\n",
    "               }"
   ]
  },
  {
   "cell_type": "code",
   "execution_count": null,
   "metadata": {},
   "outputs": [],
   "source": [
    "# make predictions"
   ]
  },
  {
   "cell_type": "code",
   "execution_count": 298,
   "metadata": {},
   "outputs": [],
   "source": [
    "loaded_linear_lc = pickle.load(open(\"models/log_reg_oversamp_logistic.sav\", 'rb'))\n",
    "y_validate_lc_oversamp = loaded_linear_lc.predict(X_validate_min_max)\n",
    "y_validate_lc_oversamp = pd.DataFrame(y_validate_lc_oversamp)\n",
    "y_validate_lc_oversamp.columns = [\"Class_Pred_Lc_Over\"]\n",
    "y_validate_lc_oversamp.to_csv(\"data/y_validate_lc_oversamp.csv\", index = False)"
   ]
  },
  {
   "cell_type": "code",
   "execution_count": 295,
   "metadata": {},
   "outputs": [
    {
     "data": {
      "text/plain": [
       "LIVE    39\n",
       "DIE     14\n",
       "Name: Class_Pred_Lc_Over, dtype: int64"
      ]
     },
     "execution_count": 295,
     "metadata": {},
     "output_type": "execute_result"
    }
   ],
   "source": [
    "y_validate_lc_oversamp[\"Class_Pred_Lc_Over\"].value_counts()"
   ]
  },
  {
   "cell_type": "code",
   "execution_count": 299,
   "metadata": {},
   "outputs": [],
   "source": [
    "loaded_linear_lc_smote = pickle.load(open(\"models/log_reg_smote_logistic.sav\", 'rb'))\n",
    "y_validate_lc_smote = loaded_linear_lc_smote.predict(X_validate_min_max)\n",
    "y_validate_lc_smote = pd.DataFrame(y_validate_lc_smote)\n",
    "y_validate_lc_smote.columns = [\"Class_Pred_Lc_SMOTE\"]\n",
    "y_validate_lc_smote.to_csv(\"data/y_validate_lc_smote.csv\", index = False)"
   ]
  },
  {
   "cell_type": "code",
   "execution_count": 300,
   "metadata": {},
   "outputs": [
    {
     "data": {
      "text/plain": [
       "LIVE    40\n",
       "DIE     13\n",
       "Name: Class_Pred_Lc_SMOTE, dtype: int64"
      ]
     },
     "execution_count": 300,
     "metadata": {},
     "output_type": "execute_result"
    }
   ],
   "source": [
    "y_validate_lc_smote[\"Class_Pred_Lc_SMOTE\"].value_counts()"
   ]
  },
  {
   "cell_type": "code",
   "execution_count": 301,
   "metadata": {},
   "outputs": [],
   "source": [
    "loaded_linear_tree = pickle.load(open(\"models/min_max_tree.sav\", 'rb'))\n",
    "y_validate_tree = loaded_linear_tree.predict(X_validate_min_max)\n",
    "y_validate_tree = pd.DataFrame(y_validate_tree)\n",
    "y_validate_tree.columns = [\"Class_Pred_Tree_Over\"]\n",
    "y_validate_tree.to_csv(\"data/y_validate_tree_over.csv\", index = False)"
   ]
  },
  {
   "cell_type": "code",
   "execution_count": 302,
   "metadata": {},
   "outputs": [
    {
     "data": {
      "text/plain": [
       "LIVE    42\n",
       "DIE     11\n",
       "Name: Class_Pred_Tree_Over, dtype: int64"
      ]
     },
     "execution_count": 302,
     "metadata": {},
     "output_type": "execute_result"
    }
   ],
   "source": [
    "y_validate_tree[\"Class_Pred_Tree_Over\"].value_counts()"
   ]
  },
  {
   "cell_type": "code",
   "execution_count": 303,
   "metadata": {},
   "outputs": [],
   "source": [
    "loaded_forest = pickle.load(open(\"models/forest_forest.sav\", 'rb'))\n",
    "y_validate_forest = loaded_forest.predict(X_validate_min_max)\n",
    "y_validate_forest = pd.DataFrame(y_validate_forest)\n",
    "y_validate_forest.columns = [\"Class_Pred_Forest_Over\"]\n",
    "y_validate_forest.to_csv(\"data/y_validate_forest_over.csv\", index = False)"
   ]
  },
  {
   "cell_type": "code",
   "execution_count": 304,
   "metadata": {},
   "outputs": [
    {
     "data": {
      "text/plain": [
       "LIVE    36\n",
       "DIE     17\n",
       "Name: Class_Pred_Forest_Over, dtype: int64"
      ]
     },
     "execution_count": 304,
     "metadata": {},
     "output_type": "execute_result"
    }
   ],
   "source": [
    "y_validate_forest[\"Class_Pred_Forest_Over\"].value_counts()"
   ]
  },
  {
   "cell_type": "code",
   "execution_count": 306,
   "metadata": {},
   "outputs": [],
   "source": [
    "loaded_linear = pickle.load(open(\"models/log_reg_logistic.sav\", 'rb'))\n",
    "y_validate_log = loaded_linear.predict(X_validate_min_max)\n",
    "y_validate_log = pd.DataFrame(y_validate_log)\n",
    "y_validate_log.columns = [\"Class_Pred_Log\"]\n",
    "y_validate_log.to_csv(\"data/y_validate_log.csv\", index = False)"
   ]
  },
  {
   "cell_type": "code",
   "execution_count": 307,
   "metadata": {},
   "outputs": [
    {
     "data": {
      "text/plain": [
       "LIVE    47\n",
       "DIE      6\n",
       "Name: Class_Pred_Log, dtype: int64"
      ]
     },
     "execution_count": 307,
     "metadata": {},
     "output_type": "execute_result"
    }
   ],
   "source": [
    "y_validate_log[\"Class_Pred_Log\"].value_counts()"
   ]
  },
  {
   "cell_type": "code",
   "execution_count": 312,
   "metadata": {},
   "outputs": [],
   "source": [
    "loaded_tree_smote = pickle.load(open(\"models/SMOTE_tree.sav\", 'rb'))\n",
    "y_validate_smote_tree = loaded_tree_smote.predict(X_validate_min_max)\n",
    "y_validate_smote_tree = pd.DataFrame(y_validate_smote_tree)\n",
    "y_validate_smote_tree.columns = [\"Class_Pred_Tree_SMOTE\"]\n",
    "y_validate_smote_tree.to_csv(\"data/y_validate_tree_smote.csv\", index = False)"
   ]
  },
  {
   "cell_type": "code",
   "execution_count": 313,
   "metadata": {},
   "outputs": [
    {
     "data": {
      "text/plain": [
       "LIVE    40\n",
       "DIE     13\n",
       "Name: Class_Pred_Tree_SMOTE, dtype: int64"
      ]
     },
     "execution_count": 313,
     "metadata": {},
     "output_type": "execute_result"
    }
   ],
   "source": [
    "y_validate_smote_tree[\"Class_Pred_Tree_SMOTE\"].value_counts()"
   ]
  },
  {
   "cell_type": "code",
   "execution_count": 314,
   "metadata": {},
   "outputs": [
    {
     "data": {
      "text/html": [
       "<div>\n",
       "<style scoped>\n",
       "    .dataframe tbody tr th:only-of-type {\n",
       "        vertical-align: middle;\n",
       "    }\n",
       "\n",
       "    .dataframe tbody tr th {\n",
       "        vertical-align: top;\n",
       "    }\n",
       "\n",
       "    .dataframe thead th {\n",
       "        text-align: right;\n",
       "    }\n",
       "</style>\n",
       "<table border=\"1\" class=\"dataframe\">\n",
       "  <thead>\n",
       "    <tr style=\"text-align: right;\">\n",
       "      <th></th>\n",
       "      <th>Class_Pred_Tree_SMOTE</th>\n",
       "    </tr>\n",
       "  </thead>\n",
       "  <tbody>\n",
       "    <tr>\n",
       "      <th>0</th>\n",
       "      <td>LIVE</td>\n",
       "    </tr>\n",
       "    <tr>\n",
       "      <th>1</th>\n",
       "      <td>LIVE</td>\n",
       "    </tr>\n",
       "    <tr>\n",
       "      <th>2</th>\n",
       "      <td>LIVE</td>\n",
       "    </tr>\n",
       "    <tr>\n",
       "      <th>3</th>\n",
       "      <td>LIVE</td>\n",
       "    </tr>\n",
       "    <tr>\n",
       "      <th>4</th>\n",
       "      <td>LIVE</td>\n",
       "    </tr>\n",
       "    <tr>\n",
       "      <th>5</th>\n",
       "      <td>LIVE</td>\n",
       "    </tr>\n",
       "    <tr>\n",
       "      <th>6</th>\n",
       "      <td>LIVE</td>\n",
       "    </tr>\n",
       "    <tr>\n",
       "      <th>7</th>\n",
       "      <td>LIVE</td>\n",
       "    </tr>\n",
       "    <tr>\n",
       "      <th>8</th>\n",
       "      <td>DIE</td>\n",
       "    </tr>\n",
       "    <tr>\n",
       "      <th>9</th>\n",
       "      <td>LIVE</td>\n",
       "    </tr>\n",
       "    <tr>\n",
       "      <th>10</th>\n",
       "      <td>LIVE</td>\n",
       "    </tr>\n",
       "    <tr>\n",
       "      <th>11</th>\n",
       "      <td>LIVE</td>\n",
       "    </tr>\n",
       "    <tr>\n",
       "      <th>12</th>\n",
       "      <td>DIE</td>\n",
       "    </tr>\n",
       "    <tr>\n",
       "      <th>13</th>\n",
       "      <td>LIVE</td>\n",
       "    </tr>\n",
       "    <tr>\n",
       "      <th>14</th>\n",
       "      <td>LIVE</td>\n",
       "    </tr>\n",
       "    <tr>\n",
       "      <th>15</th>\n",
       "      <td>LIVE</td>\n",
       "    </tr>\n",
       "    <tr>\n",
       "      <th>16</th>\n",
       "      <td>LIVE</td>\n",
       "    </tr>\n",
       "    <tr>\n",
       "      <th>17</th>\n",
       "      <td>LIVE</td>\n",
       "    </tr>\n",
       "    <tr>\n",
       "      <th>18</th>\n",
       "      <td>DIE</td>\n",
       "    </tr>\n",
       "    <tr>\n",
       "      <th>19</th>\n",
       "      <td>DIE</td>\n",
       "    </tr>\n",
       "    <tr>\n",
       "      <th>20</th>\n",
       "      <td>LIVE</td>\n",
       "    </tr>\n",
       "    <tr>\n",
       "      <th>21</th>\n",
       "      <td>LIVE</td>\n",
       "    </tr>\n",
       "    <tr>\n",
       "      <th>22</th>\n",
       "      <td>LIVE</td>\n",
       "    </tr>\n",
       "    <tr>\n",
       "      <th>23</th>\n",
       "      <td>LIVE</td>\n",
       "    </tr>\n",
       "    <tr>\n",
       "      <th>24</th>\n",
       "      <td>LIVE</td>\n",
       "    </tr>\n",
       "    <tr>\n",
       "      <th>25</th>\n",
       "      <td>LIVE</td>\n",
       "    </tr>\n",
       "    <tr>\n",
       "      <th>26</th>\n",
       "      <td>DIE</td>\n",
       "    </tr>\n",
       "    <tr>\n",
       "      <th>27</th>\n",
       "      <td>LIVE</td>\n",
       "    </tr>\n",
       "    <tr>\n",
       "      <th>28</th>\n",
       "      <td>DIE</td>\n",
       "    </tr>\n",
       "    <tr>\n",
       "      <th>29</th>\n",
       "      <td>LIVE</td>\n",
       "    </tr>\n",
       "    <tr>\n",
       "      <th>30</th>\n",
       "      <td>DIE</td>\n",
       "    </tr>\n",
       "    <tr>\n",
       "      <th>31</th>\n",
       "      <td>DIE</td>\n",
       "    </tr>\n",
       "    <tr>\n",
       "      <th>32</th>\n",
       "      <td>LIVE</td>\n",
       "    </tr>\n",
       "    <tr>\n",
       "      <th>33</th>\n",
       "      <td>LIVE</td>\n",
       "    </tr>\n",
       "    <tr>\n",
       "      <th>34</th>\n",
       "      <td>LIVE</td>\n",
       "    </tr>\n",
       "    <tr>\n",
       "      <th>35</th>\n",
       "      <td>LIVE</td>\n",
       "    </tr>\n",
       "    <tr>\n",
       "      <th>36</th>\n",
       "      <td>LIVE</td>\n",
       "    </tr>\n",
       "    <tr>\n",
       "      <th>37</th>\n",
       "      <td>DIE</td>\n",
       "    </tr>\n",
       "    <tr>\n",
       "      <th>38</th>\n",
       "      <td>LIVE</td>\n",
       "    </tr>\n",
       "    <tr>\n",
       "      <th>39</th>\n",
       "      <td>DIE</td>\n",
       "    </tr>\n",
       "    <tr>\n",
       "      <th>40</th>\n",
       "      <td>LIVE</td>\n",
       "    </tr>\n",
       "    <tr>\n",
       "      <th>41</th>\n",
       "      <td>LIVE</td>\n",
       "    </tr>\n",
       "    <tr>\n",
       "      <th>42</th>\n",
       "      <td>LIVE</td>\n",
       "    </tr>\n",
       "    <tr>\n",
       "      <th>43</th>\n",
       "      <td>DIE</td>\n",
       "    </tr>\n",
       "    <tr>\n",
       "      <th>44</th>\n",
       "      <td>LIVE</td>\n",
       "    </tr>\n",
       "    <tr>\n",
       "      <th>45</th>\n",
       "      <td>LIVE</td>\n",
       "    </tr>\n",
       "    <tr>\n",
       "      <th>46</th>\n",
       "      <td>DIE</td>\n",
       "    </tr>\n",
       "    <tr>\n",
       "      <th>47</th>\n",
       "      <td>DIE</td>\n",
       "    </tr>\n",
       "    <tr>\n",
       "      <th>48</th>\n",
       "      <td>LIVE</td>\n",
       "    </tr>\n",
       "    <tr>\n",
       "      <th>49</th>\n",
       "      <td>LIVE</td>\n",
       "    </tr>\n",
       "    <tr>\n",
       "      <th>50</th>\n",
       "      <td>LIVE</td>\n",
       "    </tr>\n",
       "    <tr>\n",
       "      <th>51</th>\n",
       "      <td>LIVE</td>\n",
       "    </tr>\n",
       "    <tr>\n",
       "      <th>52</th>\n",
       "      <td>LIVE</td>\n",
       "    </tr>\n",
       "  </tbody>\n",
       "</table>\n",
       "</div>"
      ],
      "text/plain": [
       "   Class_Pred_Tree_SMOTE\n",
       "0                   LIVE\n",
       "1                   LIVE\n",
       "2                   LIVE\n",
       "3                   LIVE\n",
       "4                   LIVE\n",
       "5                   LIVE\n",
       "6                   LIVE\n",
       "7                   LIVE\n",
       "8                    DIE\n",
       "9                   LIVE\n",
       "10                  LIVE\n",
       "11                  LIVE\n",
       "12                   DIE\n",
       "13                  LIVE\n",
       "14                  LIVE\n",
       "15                  LIVE\n",
       "16                  LIVE\n",
       "17                  LIVE\n",
       "18                   DIE\n",
       "19                   DIE\n",
       "20                  LIVE\n",
       "21                  LIVE\n",
       "22                  LIVE\n",
       "23                  LIVE\n",
       "24                  LIVE\n",
       "25                  LIVE\n",
       "26                   DIE\n",
       "27                  LIVE\n",
       "28                   DIE\n",
       "29                  LIVE\n",
       "30                   DIE\n",
       "31                   DIE\n",
       "32                  LIVE\n",
       "33                  LIVE\n",
       "34                  LIVE\n",
       "35                  LIVE\n",
       "36                  LIVE\n",
       "37                   DIE\n",
       "38                  LIVE\n",
       "39                   DIE\n",
       "40                  LIVE\n",
       "41                  LIVE\n",
       "42                  LIVE\n",
       "43                   DIE\n",
       "44                  LIVE\n",
       "45                  LIVE\n",
       "46                   DIE\n",
       "47                   DIE\n",
       "48                  LIVE\n",
       "49                  LIVE\n",
       "50                  LIVE\n",
       "51                  LIVE\n",
       "52                  LIVE"
      ]
     },
     "execution_count": 314,
     "metadata": {},
     "output_type": "execute_result"
    }
   ],
   "source": [
    "y_validate_smote_tree"
   ]
  },
  {
   "cell_type": "code",
   "execution_count": 18,
   "metadata": {},
   "outputs": [],
   "source": [
    "# functions"
   ]
  },
  {
   "cell_type": "code",
   "execution_count": null,
   "metadata": {},
   "outputs": [],
   "source": []
  },
  {
   "cell_type": "code",
   "execution_count": 6,
   "metadata": {},
   "outputs": [],
   "source": [
    "def clean_gender(x):\n",
    "    females = ['Feamle', 'female', 'F']\n",
    "    males = ['M','Male','meale','m','male']\n",
    "    found_female = False\n",
    "    found_male = False\n",
    "    for elem in females:\n",
    "        if ( elem in x ):\n",
    "            return \"F\"\n",
    "            found_female = True\n",
    "            break\n",
    "    if ( found_female == False ):\n",
    "        for elem in males:\n",
    "            if ( elem in x ):\n",
    "                return \"M\"\n",
    "                found_male = True\n",
    "                break\n"
   ]
  },
  {
   "cell_type": "code",
   "execution_count": 7,
   "metadata": {},
   "outputs": [],
   "source": [
    "def to_int(x):\n",
    "    x = pd.to_numeric(x, errors='coerce')\n",
    "    return x\n"
   ]
  },
  {
   "cell_type": "code",
   "execution_count": 93,
   "metadata": {},
   "outputs": [],
   "source": [
    "def to_object(x):\n",
    "    x = pd.to_object(x, errors='coerce')\n",
    "    return x\n"
   ]
  },
  {
   "cell_type": "code",
   "execution_count": 28,
   "metadata": {},
   "outputs": [],
   "source": [
    "def repl_median(df, columns):\n",
    "    df = df.copy()\n",
    "    for col in columns:\n",
    "        m = df[col].median()\n",
    "        df[col] = df[col].fillna(m)\n",
    "    return df"
   ]
  }
 ],
 "metadata": {
  "kernelspec": {
   "display_name": "Python 3",
   "language": "python",
   "name": "python3"
  },
  "language_info": {
   "codemirror_mode": {
    "name": "ipython",
    "version": 3
   },
   "file_extension": ".py",
   "mimetype": "text/x-python",
   "name": "python",
   "nbconvert_exporter": "python",
   "pygments_lexer": "ipython3",
   "version": "3.8.3"
  }
 },
 "nbformat": 4,
 "nbformat_minor": 4
}
